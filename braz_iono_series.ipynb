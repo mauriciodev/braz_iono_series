{
 "cells": [
  {
   "cell_type": "markdown",
   "metadata": {},
   "source": [
    "<a href=\"https://colab.research.google.com/github/mauriciodev/braz_iono_series/blob/main/braz_iono_series.ipynb\" target=\"_parent\"><img src=\"https://colab.research.google.com/assets/colab-badge.svg\" alt=\"Open In Colab\"/></a>"
   ]
  },
  {
   "cell_type": "markdown",
   "metadata": {},
   "source": [
    "MIT License\n",
    "\n",
    "Copyright (c) 2022 Mauricio Carvalho Mathias de Paulo and Danilo Souza\n",
    "\n",
    "Permission is hereby granted, free of charge, to any person obtaining a copy\n",
    "of this software and associated documentation files (the \"Software\"), to deal\n",
    "in the Software without restriction, including without limitation the rights\n",
    "to use, copy, modify, merge, publish, distribute, sublicense, and/or sell\n",
    "copies of the Software, and to permit persons to whom the Software is\n",
    "furnished to do so, subject to the following conditions:\n",
    "\n",
    "The above copyright notice and this permission notice shall be included in all\n",
    "copies or substantial portions of the Software.\n",
    "\n",
    "THE SOFTWARE IS PROVIDED \"AS IS\", WITHOUT WARRANTY OF ANY KIND, EXPRESS OR\n",
    "IMPLIED, INCLUDING BUT NOT LIMITED TO THE WARRANTIES OF MERCHANTABILITY,\n",
    "FITNESS FOR A PARTICULAR PURPOSE AND NONINFRINGEMENT. IN NO EVENT SHALL THE\n",
    "AUTHORS OR COPYRIGHT HOLDERS BE LIABLE FOR ANY CLAIM, DAMAGES OR OTHER\n",
    "LIABILITY, WHETHER IN AN ACTION OF CONTRACT, TORT OR OTHERWISE, ARISING FROM,\n",
    "OUT OF OR IN CONNECTION WITH THE SOFTWARE OR THE USE OR OTHER DEALINGS IN THE\n",
    "SOFTWARE."
   ]
  },
  {
   "cell_type": "markdown",
   "metadata": {
    "id": "7YdoO52YgHeG"
   },
   "source": [
    "## Bibliotecas"
   ]
  },
  {
   "cell_type": "code",
   "execution_count": null,
   "metadata": {
    "id": "LBbfWGPpgGyl"
   },
   "outputs": [],
   "source": [
    "from datetime import datetime\n",
    "import pandas as pd\n",
    "import urllib\n",
    "import os\n",
    "from zipfile import ZipFile\n",
    "import subprocess\n",
    "import numpy as np\n",
    "import matplotlib.pyplot as plt\n",
    "import re\n",
    "import io\n",
    "import urllib.request\n",
    "import scipy\n",
    "from sklearn.metrics import r2_score\n",
    "from sklearn.linear_model import LinearRegression"
   ]
  },
  {
   "cell_type": "markdown",
   "metadata": {
    "id": "urpje2RqgOUE"
   },
   "source": [
    "## Parâmetros de configuração"
   ]
  },
  {
   "cell_type": "code",
   "execution_count": null,
   "metadata": {
    "id": "aziMtW6rYnMl"
   },
   "outputs": [],
   "source": [
    "start_doy = 1\n",
    "end_doy = 365\n",
    "end_year=2019\n",
    "start_year=2013\n",
    "#year=2019\n",
    "output_folder = \"MyDrive/0braz\"\n",
    "station=\"braz\"\n",
    "#We recommend running the code one year at a time, because the servers might disable long download sequences."
   ]
  },
  {
   "cell_type": "code",
   "execution_count": null,
   "metadata": {
    "colab": {
     "base_uri": "https://localhost:8080/"
    },
    "id": "3aJRAnc5deiF",
    "outputId": "3a790570-cf2a-448b-c21f-8cd0fd0b6fdc"
   },
   "outputs": [],
   "source": [
    "mount_folder = \"/mnt/ext4/mauricio/artigos/braz_iono_series/\"\n",
    "#mount_folder = \"/content/drive/\"\n",
    "#from google.colab import drive\n",
    "#drive.mount(mount_folder)\n",
    "folder = os.path.join(mount_folder,output_folder)\n",
    "os.makedirs(folder,exist_ok=True)\n",
    "os.chdir(folder)"
   ]
  },
  {
   "cell_type": "code",
   "execution_count": null,
   "metadata": {
    "colab": {
     "base_uri": "https://localhost:8080/"
    },
    "id": "i8_pfImtCOSp",
    "outputId": "55d55005-0178-4529-9049-887066ff951f"
   },
   "outputs": [],
   "source": [
    "print(folder)"
   ]
  },
  {
   "cell_type": "markdown",
   "metadata": {
    "id": "2lDbptxQz3sX"
   },
   "source": [
    "# Baixar os programas de conversão e limpeza do rinex"
   ]
  },
  {
   "cell_type": "code",
   "execution_count": null,
   "metadata": {
    "id": "Nf-NJsQ4af_j"
   },
   "outputs": [],
   "source": [
    "if not os.path.exists(\"crx2rnx\"):\n",
    "  !wget https://terras.gsi.go.jp/ja/crx2rnx/RNXCMP_4.1.0_src.tar.gz\n",
    "  !tar -xzvf RNXCMP_4.1.0_src.tar.gz\n",
    "  !gcc ./RNXCMP_4.1.0_src/source/crx2rnx.c -o crx2rnx\n",
    "if not os.path.exists(\"teqc\"):\n",
    "  !wget https://www.unavco.org/software/data-processing/teqc/development/teqc_CentOSLx86_64s.zip -O teqc.zip\n",
    "  !unzip -o teqc.zip "
   ]
  },
  {
   "cell_type": "markdown",
   "metadata": {
    "id": "6V6OCgti0AyK"
   },
   "source": [
    "# Baixar os arquivos rinex e executar a limpeza dos arquivos"
   ]
  },
  {
   "cell_type": "code",
   "execution_count": null,
   "metadata": {
    "colab": {
     "base_uri": "https://localhost:8080/"
    },
    "id": "ZD3nD_tj6UD1",
    "outputId": "f2ed849f-24f8-46fd-932d-83fdf7f8d3ca"
   },
   "outputs": [],
   "source": [
    "for year in range (start_year,end_year+1):\n",
    "  for doy in range (start_doy,end_doy+1+(0 if year%4!=0 else 1)):\n",
    "    link=\"\"\"https://geoftp.ibge.gov.br/informacoes_sobre_posicionamento_geodesico/rbmc/dados/{2}/{0:03}/{1}{0:03}1.zip\"\"\".format(doy,station,year)\n",
    "    rbmcfile=link.split(\"/\")[-1]\n",
    "    print(link)\n",
    "    zipFile=str(year)+rbmcfile\n",
    "    if not os.path.exists(zipFile) or os.path.getsize(zipFile)<1024:\n",
    "      !wget \"$link\" -O $zipFile\n",
    "      !chmod 777 crx2rnx teqc \n",
    "      !unzip -o $zipFile \n",
    "      crxfile=rbmcfile.replace(\".zip\",'.{}d'.format(year%100))\n",
    "      if os.path.exists(crxfile):\n",
    "          !./crx2rnx -f $crxfile\n",
    "      #print(\"Output file should be {}. Please check the Files tab.\".format(\"rjni2361.21d\"[:-1]+\"o\"))\n",
    "      rnx2file=crxfile[:-1]+\"o\"\n",
    "      newFile=rnx2file.replace(\".\",\"gps.\")\n",
    "      !./teqc -E -C -R -S -O.obs L1L2C1P2S1S2 +out $newFile $rnx2file \n",
    "      print(\"RINEX 2 file saved to {}\".format(newFile))\n",
    "      #Let's fix the lack of wavelength factor\n",
    "      !sed '/^.*APPROX POSITION XYZ.*/a \\     1     1                                                WAVELENGTH FACT L1\\/2' -i $newFile\n",
    "    else:\n",
    "      print(\"File exists {}\".format(zipFile))"
   ]
  },
  {
   "cell_type": "markdown",
   "metadata": {
    "id": "OnEcfTY5XhVg"
   },
   "source": [
    "# Criação da função para criar os arquivos de configuração do rinex_ho"
   ]
  },
  {
   "cell_type": "code",
   "execution_count": null,
   "metadata": {
    "id": "yJDFTYeZeJmt"
   },
   "outputs": [],
   "source": [
    "#helper function to get month from doy and year\n",
    "def getMonth(year,doy):\n",
    "  weird_date=np.datetime64(year, 'Y')+np.timedelta64(doy,'D')\n",
    "  return  int(weird_date.astype('datetime64[M]').astype(int)%12+1)"
   ]
  },
  {
   "cell_type": "code",
   "execution_count": null,
   "metadata": {
    "id": "uQLjWIjMrhbf"
   },
   "outputs": [],
   "source": [
    "def make_rinex_ha(doy, year, station, path):\n",
    "  month=getMonth(year,doy)\n",
    "  rinex_ha = \"\"\"{3}/{0}{1:03}1gps.{2}o             \t\t\t//obs file\n",
    "{3}/{0}{1:03}1.{2}n             \t\t\t//nav file\n",
    "{3}/{0}{1:03}1c.{2}o             \t\t\t//new obs file\n",
    "{3}/{0}{1:03}_{2}_Out              \t\t\t//Name of output files\n",
    "4115014.0848 -4550641.5491 -1741444.0190    \t//Receiver coordinates (if 0.0 => Try to read coordinates from RINEX)\n",
    "10                                            \t//Elevation Mask (means that observables under this mask won't be corrected)\n",
    "1\t                 \t\t\t//Save output and log files (yes=1; no=0)\n",
    "2\t\t         \t\t\t//0 = Tec from raw pseudorange; 1 = TEC from smothed pseudorange by phase; 2 = TEC from GIM;3 = TEC from carrier levelled by code\n",
    "{3}/ionex/codg{1:03}0.{2}i             \t\t\t//Name of the CODE map: In the case before option \"To use CODE map\" = 1 (ftp://ftp.unibe.ch/aiub/CODE/)  \n",
    "0//-10.708                    \t\t\t//DCB (P1-P2) = receiver bias in ns (nano-segundos): In the case computing TEC from pseudorange \n",
    "{3}/dcb/P1C1{2}{4:02}.DCB          \t\t\t        //DCB (P1-C1) - P1C1 bias for satellite - Found at: ftp://ftp.unibe.ch/aiub/CODE/\n",
    "{3}/dcb/P1P2{2}{4:02}.DCB          \t\t\t        //DCB (P1-P2) - P1P2 bias for satellites - Found at: ftp://ftp.unibe.ch/aiub/CODE/\n",
    "2                        \t\t\t//0 = Dipolar model; 1 = CGM from PIM; 2 = IGRF model\n",
    "IGRF_COEF/IGRF13.COF           \t\t\t//Name of the IGRF coefficients\"\"\".format(station,doy,year%100,path,month)\n",
    "  #print(rinex_ha)\n",
    "  f = open(\"rinex_ha.inp\", \"w\")\n",
    "  f.write(rinex_ha)\n",
    "  f.close()\n",
    "make_rinex_ha(233,2013,\"braz\",\"/mnt/ext4/mauricio/artigos/braz_iono_series/MyDrive/0braz/\")\n"
   ]
  },
  {
   "cell_type": "markdown",
   "metadata": {
    "id": "xFIoQVHJjUUq"
   },
   "source": [
    "# Baixando mapas de ionosfera"
   ]
  },
  {
   "cell_type": "code",
   "execution_count": null,
   "metadata": {
    "id": "-wfqhGIljSEk"
   },
   "outputs": [],
   "source": [
    "def downloadIonex(doy,year):\n",
    "  baseurl=f\"ftp://igs.ign.fr/pub/igs/products/ionosphere/{year}/{doy:03}/codg{doy:03}0.{year%100}i.Z\"\n",
    "  os.makedirs(\"ionex\",exist_ok=True)\n",
    "  local_filename = os.path.join(\"ionex\",baseurl.split('/')[-1])\n",
    "  dcb_file=local_filename.replace('.Z','')\n",
    "  if not os.path.exists(dcb_file):\n",
    "    print(\"Downloading \", baseurl, dcb_file)\n",
    "    #urllib.request.urlretrieve(baseurl, local_filename)\n",
    "    !wget $baseurl -O $local_filename\n",
    "    print(\"Saved \",local_filename)\n",
    "    if os.path.getsize(local_filename) == 0:\n",
    "      print(\"Trying to get rapid, because final ionex was not found.\")\n",
    "      baseurl=baseurl.replace(\"codg\",\"corg\")\n",
    "      !wget $baseurl -O $local_filename\n",
    "    !gunzip $local_filename -f"
   ]
  },
  {
   "cell_type": "code",
   "execution_count": null,
   "metadata": {
    "colab": {
     "base_uri": "https://localhost:8080/"
    },
    "id": "wkbR0sc-j4ML",
    "outputId": "557bd280-3103-4524-cf30-16d2779e6b5c"
   },
   "outputs": [],
   "source": [
    "for year in range (start_year,end_year+1):\n",
    "  for doy in range (start_doy,end_doy+1):\n",
    "    downloadIonex(doy,year)"
   ]
  },
  {
   "cell_type": "markdown",
   "metadata": {
    "id": "YAtmXtrQ0jGk"
   },
   "source": [
    "# Baixando os arquivos de atraso de hardware"
   ]
  },
  {
   "cell_type": "code",
   "execution_count": null,
   "metadata": {
    "colab": {
     "base_uri": "https://localhost:8080/"
    },
    "id": "bFk3V_4m3b7t",
    "outputId": "2abfedc7-d9b8-42c8-8559-da6aacc69f0b"
   },
   "outputs": [],
   "source": [
    "dcbfolder=os.path.join(folder,\"dcb\")\n",
    "os.makedirs(dcbfolder,exist_ok=True)\n",
    "for year in range (start_year,end_year+1):\n",
    "  for month in range (1,13):\n",
    "    p1c1=f\"P1C1{year%100}{month:02}.DCB\"\n",
    "    p1p2=f\"P1P2{year%100}{month:02}.DCB\"\n",
    "    if not os.path.exists(f\"{dcbfolder}/{p1c1}\"):\n",
    "      !wget \"http://ftp.aiub.unibe.ch/CODE/{year}/{p1c1}.Z\" -O \"{dcbfolder}/{p1c1}.Z\"\n",
    "      !uncompress -f \"{dcbfolder}/{p1c1}.Z\" \n",
    "    if not os.path.exists(f\"{dcbfolder}/{p1p2}\"):\n",
    "      !wget \"http://ftp.aiub.unibe.ch/CODE/{year}/{p1p2}.Z\" -O \"{dcbfolder}/{p1p2}.Z\"\n",
    "      !uncompress -f \"{dcbfolder}/{p1p2}.Z\" \n",
    "!ls {dcbfolder}"
   ]
  },
  {
   "cell_type": "markdown",
   "metadata": {
    "id": "Im6Fj8VI2CgO"
   },
   "source": [
    "# Compilando o Rinex_ho"
   ]
  },
  {
   "cell_type": "code",
   "execution_count": null,
   "metadata": {
    "id": "YWbarlSKEhIY"
   },
   "outputs": [],
   "source": [
    "!rm -rf ${folder}/rinex_ho-main"
   ]
  },
  {
   "cell_type": "code",
   "execution_count": null,
   "metadata": {
    "id": "ohGxKspgFTI7"
   },
   "outputs": [],
   "source": [
    "!cd ~\n"
   ]
  },
  {
   "cell_type": "code",
   "execution_count": null,
   "metadata": {
    "colab": {
     "base_uri": "https://localhost:8080/"
    },
    "id": "KUQDfOlktVi8",
    "outputId": "61009086-cfaa-4d84-afef-2de0f2e9c3da"
   },
   "outputs": [],
   "source": [
    "%cd $folder\n",
    "if os.path.exists(\"rinex_ho\"):\n",
    "  %cd rinex_ho\n",
    "else:\n",
    "  !git clone \"https://github.com/mauriciodev/rinex_ho.git\"\n",
    "  %cd rinex_ho\n",
    "  !git checkout VTEC\n",
    "  !cmake .\n",
    "  !make"
   ]
  },
  {
   "cell_type": "markdown",
   "metadata": {
    "id": "0KkjkdGz2PRQ"
   },
   "source": [
    "# Executando o Rinex_ho para cada conjunto de arquivos rinex"
   ]
  },
  {
   "cell_type": "code",
   "execution_count": null,
   "metadata": {
    "colab": {
     "base_uri": "https://localhost:8080/",
     "height": 1000
    },
    "id": "_lUTPddZ8kZh",
    "outputId": "9d7022fa-6015-4d63-b6b1-fe8a57346ff6"
   },
   "outputs": [],
   "source": [
    "os.chdir(os.path.join(folder,\"rinex_ho\"))\n",
    "overwrite=False\n",
    "!chmod 777 Rinex_ho\n",
    "for year in range (start_year,end_year+1):\n",
    "  for doy in range (start_doy,end_doy+1+(0 if year%4!=0 else 1)):\n",
    "    make_rinex_ha(doy,year,station,folder)\n",
    "    tecFile=\"{3}/{0}{1:03}_{2}_Out_tec.txt\".format(station,doy,year%100,folder)\n",
    "    #less than 1kb is probably a faulty file\n",
    "    if (not os.path.exists(tecFile)) or (overwrite==True) or (os.path.getsize(tecFile) < 1024):\n",
    "      print(\"Running Rinex_ho for doy {0}, year {1}, station {2}, folder: {3}\".format(doy,year,station,folder))\n",
    "      subprocess.run(\"./Rinex_ho\", shell=True, stdout=subprocess.DEVNULL)\n",
    "    else:\n",
    "      print(\"TEC file {0} already exists. Skipping.\".format(tecFile))"
   ]
  },
  {
   "cell_type": "markdown",
   "metadata": {
    "id": "xno9OJN62X7S"
   },
   "source": [
    "# Visualização dos resultados da 2ª ordem"
   ]
  },
  {
   "cell_type": "markdown",
   "metadata": {
    "id": "CjWqGmg79PZ8"
   },
   "source": [
    "Fazer o laço para todos os doys e para os outros arquivos _Out"
   ]
  },
  {
   "cell_type": "code",
   "execution_count": null,
   "metadata": {},
   "outputs": [],
   "source": [
    "os.chdir(folder)"
   ]
  },
  {
   "cell_type": "code",
   "execution_count": null,
   "metadata": {
    "colab": {
     "base_uri": "https://localhost:8080/"
    },
    "id": "-jDny7dyVqCU",
    "outputId": "e71da24a-9568-496b-830c-05c6ffe66c2b"
   },
   "outputs": [],
   "source": [
    "import warnings\n",
    "#This might take a while\n",
    "def makeTimeSeries(sufix, station):\n",
    "  resultsMean=[]\n",
    "  resultsMax=[]\n",
    "  resultsMin=[]\n",
    "  resultsMeanA=[]\n",
    "  resultsMaxA=[]\n",
    "  resultsMinA=[]\n",
    "  for year in range (start_year,end_year+1): \n",
    "    for doy in range(start_doy,end_doy+1+(0 if year%4!=0 else 1)):\n",
    "      #df=pd.read_fwf(\"{1}{0:03}_{2}_{3}.txt\".format(doy,station,year%100,sufix))\n",
    "      outputFile=\"{1}{0:03}_{2}_{3}.txt\".format(doy,station,year%100,sufix)\n",
    "      df=pd.read_csv(outputFile, delim_whitespace=True)\n",
    "      df.replace(to_replace=9999999,value=np.NaN,inplace=True)\n",
    "      df.replace(to_replace=999999,value=np.NaN,inplace=True)\n",
    "      df['h:m:s'] = np.NaN\n",
    "      #media = df.mean(skipna=True).mean()\n",
    "      #media = (media if not np.isnan(media) else 0)\n",
    "      with warnings.catch_warnings():\n",
    "        warnings.simplefilter(\"ignore\")  \n",
    "        m=df.to_numpy()\n",
    "        media = np.nanmean(m)\n",
    "        meanValA = np.nanmean(np.abs(m))\n",
    "        if len(m) ==0:\n",
    "            maxVal=np.NaN\n",
    "            minVal=np.NaN\n",
    "            maxValA=np.NaN\n",
    "            minValA=np.NaN\n",
    "        else:\n",
    "            maxVal = np.nanmax(m)\n",
    "            minVal = np.nanmin(m)\n",
    "            maxValA = np.nanmax(np.abs(m))\n",
    "            minValA = np.nanmin(np.abs(m))\n",
    "      resultsMean.append(media)\n",
    "      resultsMax.append(maxVal)\n",
    "      resultsMin.append(minVal)\n",
    "      resultsMaxA.append(maxValA)\n",
    "      resultsMeanA.append(meanValA)\n",
    "      resultsMinA.append(minValA)\n",
    "  return resultsMean,resultsMax, resultsMin, resultsMaxA, resultsMinA, resultsMeanA\n",
    "  #print(results_I2L1)\n",
    "  #print(doy)\n",
    "  #df\n",
    "mean_I2L1, max_I2L1, min_I2L1, maxA_I2L1, minA_I2L1, meanA_I2L1=makeTimeSeries(\"Out_I2L1\",station)\n",
    "print(\"I2L1 finalizado.\")\n",
    "mean_I2L2, max_I2L2, min_I2L2, maxA_I2L2, minA_I2L2, meanA_I2L2=makeTimeSeries(\"Out_I2L2\",station)\n",
    "print(\"I2L2 finalizado.\")\n",
    "mean_I3L1, max_I3L1, min_I3L1, maxA_I3L1, minA_I3L1, meanA_I3L1=makeTimeSeries(\"Out_I3L1\",station)\n",
    "print(\"I3L1 finalizado.\")\n",
    "mean_I3L2, max_I3L2, min_I3L2, maxA_I3L2, minA_I3L2, meanA_I3L2=makeTimeSeries(\"Out_I3L2\",station)\n",
    "print(\"I3L2 finalizado.\")\n",
    "mean_tec, max_tec, min_tec, _,_,_ =makeTimeSeries(\"Out_tec\",station)\n",
    "print(\"TEC finalizado.\")\n"
   ]
  },
  {
   "cell_type": "markdown",
   "metadata": {},
   "source": [
    "# Exportando a tabela iono_series.csv"
   ]
  },
  {
   "cell_type": "code",
   "execution_count": null,
   "metadata": {},
   "outputs": [],
   "source": [
    "from datetime import datetime\n",
    "firstDate=datetime(year=2013, month=1,day=1)\n",
    "datelist = pd.date_range(firstDate, periods=len(results_I3L2)).tolist()\n",
    "d={\"date\": datelist, \n",
    "   \"mean_I2L1\": np.array(mean_I2L1),\n",
    "   \"mean_I2L2\": np.array(mean_I2L2),\n",
    "   \"mean_I3L1\": np.array(mean_I3L1), \n",
    "   \"mean_I3L2\": np.array(mean_I3L2), \n",
    "   \"mean_VTEC\": np.array(mean_tec), \n",
    "   \"max_I2L1\": np.array(max_I2L1),\n",
    "   \"max_I2L2\": np.array(max_I2L2),\n",
    "   \"max_I3L1\": np.array(max_I3L1), \n",
    "   \"max_I3L2\": np.array(max_I3L2), \n",
    "   \"max_VTEC\": np.array(max_tec),\n",
    "   \"min_I2L1\": np.array(min_I2L1),\n",
    "   \"min_I2L2\": np.array(min_I2L2),\n",
    "   \"min_I3L1\": np.array(min_I3L1), \n",
    "   \"min_I3L2\": np.array(min_I3L2), \n",
    "   \"min_VTEC\": np.array(min_tec),\n",
    "   \"meanA_I2L1\": np.array(meanA_I2L1),\n",
    "   \"meanA_I2L2\": np.array(meanA_I2L2),\n",
    "   \"meanA_I3L1\": np.array(meanA_I3L1), \n",
    "   \"meanA_I3L2\": np.array(meanA_I3L2), \n",
    "   \"maxA_I2L1\": np.array(maxA_I2L1),\n",
    "   \"maxA_I2L2\": np.array(maxA_I2L2),\n",
    "   \"maxA_I3L1\": np.array(maxA_I3L1), \n",
    "   \"maxA_I3L2\": np.array(maxA_I3L2),\n",
    "   \"minA_I2L1\": np.array(minA_I2L1),\n",
    "   \"minA_I2L2\": np.array(minA_I2L2),\n",
    "   \"minA_I3L1\": np.array(minA_I3L1), \n",
    "   \"minA_I3L2\": np.array(minA_I3L2)\n",
    "  }\n",
    "outdf=pd.DataFrame(data=d)\n",
    "outdf.to_csv(\"iono_series.csv\")"
   ]
  },
  {
   "cell_type": "code",
   "execution_count": null,
   "metadata": {},
   "outputs": [],
   "source": [
    "outdf"
   ]
  },
  {
   "cell_type": "markdown",
   "metadata": {
    "id": "c45Gih7p_3R9"
   },
   "source": [
    "## Salvando a série temporal "
   ]
  },
  {
   "cell_type": "code",
   "execution_count": null,
   "metadata": {
    "colab": {
     "base_uri": "https://localhost:8080/",
     "height": 235
    },
    "id": "rAjkSsNn_SE6",
    "outputId": "350668d3-56fa-4d71-c2be-852077d34eaf"
   },
   "outputs": [],
   "source": [
    "\"\"\"os.makedirs(\"results\",exist_ok=True)\n",
    "np.savetxt('results/results_I2L1.txt',np.array(mean_I2L1))\n",
    "np.savetxt('results/results_I2L2.txt',np.array(mean_I2L2))\n",
    "np.savetxt('results/results_I3L1.txt',np.array(mean_I3L1))\n",
    "np.savetxt('results/results_I3L2.txt',np.array(mean_I3L2))\n",
    "np.savetxt('results/results_tec.txt',np.array(mean_tec))\"\"\""
   ]
  },
  {
   "cell_type": "code",
   "execution_count": null,
   "metadata": {
    "id": "Ggs7AO8g_w69"
   },
   "outputs": [],
   "source": [
    "\"\"\"results_I2L1 = np.loadtxt('results/results_I2L1.txt')\n",
    "results_I2L2 = np.loadtxt('results/results_I2L2.txt')\n",
    "results_I3L1 = np.loadtxt('results/results_I3L1.txt')\n",
    "results_I3L2 = np.loadtxt('results/results_I3L2.txt')\n",
    "results_tec = np.loadtxt('results/results_tec.txt')\"\"\""
   ]
  },
  {
   "cell_type": "markdown",
   "metadata": {
    "id": "dImF83jvAm8e"
   },
   "source": [
    "Plotar um gráfico para cada arquivo result e um gráfico com os quatro"
   ]
  },
  {
   "cell_type": "code",
   "execution_count": null,
   "metadata": {
    "colab": {
     "base_uri": "https://localhost:8080/",
     "height": 295
    },
    "id": "5IyLi7puyVX0",
    "outputId": "d6febce7-0a91-4a86-c4fa-1b096bdc1306"
   },
   "outputs": [],
   "source": [
    "plt.plot(outdf['mean_I2L1'])\n",
    "plt.title('I2L1')\n",
    "plt.xlabel('Dia do ano')\n",
    "plt.ylabel('atraso ionosférico de 2ª ordem')\n",
    "plt.show()"
   ]
  },
  {
   "cell_type": "code",
   "execution_count": null,
   "metadata": {
    "colab": {
     "base_uri": "https://localhost:8080/",
     "height": 633
    },
    "id": "SueNHkpZ-1eu",
    "outputId": "82f7e54c-5003-4c77-abab-db0e168a90a6"
   },
   "outputs": [],
   "source": [
    "x_axis=np.arange(start_doy,end_doy+1)\n",
    "plt.plot(outdf['mean_I2L1'])\n",
    "#plt.xticks(np.arange(start_doy,end_doy+1, 0.5)) #intervalos do eixo x\n",
    "plt.title('I2L1')\n",
    "plt.xlabel('Dia do ano')\n",
    "plt.ylabel('Atraso ionosférico de 2ª ordem na L1')\n",
    "plt.savefig('results/I2L1.png') #antes do show\n",
    "plt.show()"
   ]
  },
  {
   "cell_type": "code",
   "execution_count": null,
   "metadata": {
    "colab": {
     "base_uri": "https://localhost:8080/",
     "height": 295
    },
    "id": "TRsHj3xvrleY",
    "outputId": "0aeb0de0-13d6-49c7-8bc4-574ad98937de"
   },
   "outputs": [],
   "source": [
    "plt.plot(outdf['mean_I2L2'])\n",
    "plt.title('I2L2')\n",
    "plt.xlabel('Dia do ano')\n",
    "plt.ylabel('Atraso ionosférico de 2ª ordem na L2')\n",
    "plt.show()"
   ]
  },
  {
   "cell_type": "code",
   "execution_count": null,
   "metadata": {
    "colab": {
     "base_uri": "https://localhost:8080/",
     "height": 295
    },
    "id": "C2VA0GIKG440",
    "outputId": "a581e298-f0f5-4f48-8ae6-ed26405b33af"
   },
   "outputs": [],
   "source": [
    "plt.plot(outdf['mean_I3L1'])\n",
    "plt.title('I3L1')\n",
    "plt.xlabel('Dia do ano')\n",
    "plt.ylabel('Atraso ionosférico de 3ª ordem na L1')\n",
    "plt.show()"
   ]
  },
  {
   "cell_type": "code",
   "execution_count": null,
   "metadata": {
    "colab": {
     "base_uri": "https://localhost:8080/",
     "height": 295
    },
    "id": "IVvqTcECG6F9",
    "outputId": "16e6af6e-ec40-41ac-e5ca-1331aaa1b988"
   },
   "outputs": [],
   "source": [
    "plt.plot(outdf['mean_I3L2'])\n",
    "plt.title('I3L2')\n",
    "plt.xlabel('Dia do ano')\n",
    "plt.ylabel('Atraso ionosférico de 3ª ordem na L2')\n",
    "plt.show()"
   ]
  },
  {
   "cell_type": "code",
   "execution_count": null,
   "metadata": {
    "colab": {
     "base_uri": "https://localhost:8080/",
     "height": 295
    },
    "id": "-mrFedD6qyfc",
    "outputId": "cd57ca40-018e-4947-e996-63cd0614b067"
   },
   "outputs": [],
   "source": [
    "plt.figure(figsize=(12,6))\n",
    "plt.plot(outdf['mean_I3L2'], label=\"L2 - 3a ordem\")\n",
    "plt.plot(outdf['mean_I3L1'], label=\"L1 - 3a ordem\")\n",
    "plt.plot(outdf['mean_I2L2'], label=\"L2 - 2a ordem\")\n",
    "plt.plot(outdf['mean_I2L1'], label=\"L1 - 2a ordem\")\n",
    "plt.title('Efeitos ionosféricos de ordem superior')\n",
    "plt.xlabel('Dia do ano')\n",
    "plt.ylabel('Efeito ionosférico (m)')\n",
    "plt.legend()\n",
    "plt.show()"
   ]
  },
  {
   "cell_type": "code",
   "execution_count": null,
   "metadata": {
    "colab": {
     "base_uri": "https://localhost:8080/",
     "height": 295
    },
    "id": "w6rEtKyZl85e",
    "outputId": "e4a6fb53-dc83-4603-fc6d-5f12a9de7527"
   },
   "outputs": [],
   "source": [
    "plt.plot(outdf['mean_VTEC'])\n",
    "plt.title('TEC ao longo do ano')\n",
    "plt.xlabel('Dia do ano')\n",
    "plt.ylabel('TEC')\n",
    "plt.show()"
   ]
  },
  {
   "cell_type": "markdown",
   "metadata": {
    "id": "pqnlHqYNxGne"
   },
   "source": [
    "# Índices de clima espacial"
   ]
  },
  {
   "cell_type": "code",
   "execution_count": null,
   "metadata": {
    "colab": {
     "base_uri": "https://localhost:8080/"
    },
    "id": "Lfv7muQdyjKk",
    "outputId": "e5beb7b1-5d66-4698-e455-9eb7f826b2e5"
   },
   "outputs": [],
   "source": [
    "for year in range (start_year,end_year+1):\n",
    "  baseurl = f\"ftp://ftp.gfz-potsdam.de/pub/home/obs/Kp_ap_Ap_SN_F107/Kp_ap_Ap_SN_F107_{year}.txt\"\n",
    "  os.makedirs(\"f107\",exist_ok=True)\n",
    "  local_filename = os.path.join(\"f107\",baseurl.split('/')[-1])\n",
    "  f107_file=local_filename.replace('.gz','')\n",
    "  if not os.path.exists(local_filename):  \n",
    "    print(\"Downloading \", baseurl)\n",
    "    !wget $baseurl -O $local_filename\n",
    "    print(\"Saved \",local_filename)\n",
    "  else:\n",
    "    print(f\"File {local_filename} found.\")"
   ]
  },
  {
   "cell_type": "code",
   "execution_count": null,
   "metadata": {
    "id": "K3nEGIYi4nvC"
   },
   "outputs": [],
   "source": [
    "f107=[]\n",
    "ap=[]\n",
    "for year in range (start_year,end_year+1):\n",
    "  baseurl = f\"ftp://ftp.gfz-potsdam.de/pub/home/obs/Kp_ap_Ap_SN_F107/Kp_ap_Ap_SN_F107_{year}.txt\"\n",
    "  os.makedirs(\"f107\",exist_ok=True)\n",
    "  local_filename = os.path.join(\"f107\",baseurl.split('/')[-1])\n",
    "  f107_file=local_filename.replace('.gz','')\n",
    "  df=pd.read_csv(f107_file,comment='#',header=None, delim_whitespace=True)\n",
    "  fcolumn=df.columns[-2]\n",
    "  df.loc[df[fcolumn] <= 0, fcolumn] = None\n",
    "  f107_series=df[fcolumn].replace(-1,None).ffill()\n",
    "  f107.append(f107_series.to_numpy())\n",
    "  apcolumn=df.columns[-5]\n",
    "  df.loc[df[apcolumn] <= 0, apcolumn] = None\n",
    "  ap_series=df[apcolumn].replace(-1,None).ffill()\n",
    "  ap.append(ap_series.to_numpy())\n",
    "  #print(df[fcolumn].to_numpy())\n",
    "  #print(\"Downloading \", baseurl)\n",
    "  #print(\"Saved \",local_filename)\n",
    "\n",
    "f107_concat=np.concatenate(f107)\n",
    "np.savetxt('results/f107.txt',np.array(f107_concat))\n",
    "ap_concat=np.concatenate(ap)\n",
    "np.savetxt('results/ap.txt',np.array(ap_concat))\n"
   ]
  },
  {
   "cell_type": "code",
   "execution_count": null,
   "metadata": {
    "id": "qhp0uwzvc5fb"
   },
   "outputs": [],
   "source": [
    "results_f107 = np.loadtxt('results/f107.txt')\n",
    "results_ap = np.loadtxt('results/ap.txt')\n",
    "\n",
    "outdf[\"f107cm\"]= np.array(f107_concat).tolist()\n",
    "outdf['ap']= np.array(ap_concat).tolist()\n",
    "outdf.to_csv(\"iono_series.csv\")"
   ]
  },
  {
   "cell_type": "code",
   "execution_count": null,
   "metadata": {},
   "outputs": [],
   "source": [
    "outdf"
   ]
  },
  {
   "cell_type": "markdown",
   "metadata": {},
   "source": [
    "# Abrindo o arquivo criado"
   ]
  },
  {
   "cell_type": "code",
   "execution_count": null,
   "metadata": {},
   "outputs": [],
   "source": [
    "df=pd.read_csv(\"iono_series.csv\")\n",
    "df['date']=pd.to_datetime(df['date'])#.astype('datetime64[D]') #recognizes date column as date type\n",
    "#df[['date']]"
   ]
  },
  {
   "cell_type": "markdown",
   "metadata": {},
   "source": [
    "# Limpando anomalias após o processamento"
   ]
  },
  {
   "cell_type": "code",
   "execution_count": null,
   "metadata": {},
   "outputs": [],
   "source": [
    "#|X-Xavg|<3*std\n",
    "#column='max_VTEC'\n",
    "column='maxA_I2L1'\n",
    "nstd=3 #number of standard deviations above or bellow median\n",
    "plt.figure(figsize=(15, 5))\n",
    "s=df[column].rolling(9, center=True, min_periods=3).std()\n",
    "median=df[column].rolling(9, center=True, min_periods=3).median(skipna=True)\n",
    "plt.plot(median, label=\"Median\")\n",
    "#outliers=abs(df[column]-median)>nstd*s\n",
    "outliers=abs(df[column]-median)>0.003\n",
    "plt.plot(df[column], label=column, marker='.', linestyle=\"None\")\n",
    "plt.plot(df[outliers][column],marker='o',linestyle = 'None', label=\"Outliers\")\n",
    "plt.legend()\n"
   ]
  },
  {
   "cell_type": "code",
   "execution_count": null,
   "metadata": {},
   "outputs": [],
   "source": [
    "df[outliers]"
   ]
  },
  {
   "cell_type": "code",
   "execution_count": null,
   "metadata": {},
   "outputs": [],
   "source": [
    "#Removendo da série\n",
    "df[outliers] = np.nan"
   ]
  },
  {
   "cell_type": "markdown",
   "metadata": {},
   "source": [
    "## Estatística descritiva"
   ]
  },
  {
   "cell_type": "code",
   "execution_count": null,
   "metadata": {},
   "outputs": [],
   "source": [
    "cols=[\"mean_I2L1\",\"mean_I3L1\",\"mean_I2L2\",\"mean_I3L2\", \"mean_VTEC\", \"maxA_I2L1\",\"maxA_I3L1\",\"maxA_I2L2\",\"maxA_I3L2\" ]\n",
    "df[cols].describe()"
   ]
  },
  {
   "cell_type": "code",
   "execution_count": null,
   "metadata": {
    "colab": {
     "base_uri": "https://localhost:8080/",
     "height": 282
    },
    "id": "yoe0uYc00PWu",
    "outputId": "b57c19bc-72c2-42bc-e27b-44de15377f1e"
   },
   "outputs": [],
   "source": [
    "plt.plot(df['date'],df['f107cm'], label='F10.7cm (fluxo solar)')\n",
    "plt.xlabel('Ano')\n",
    "plt.ylabel('F10.7cm')\n",
    "plt.legend()"
   ]
  },
  {
   "cell_type": "code",
   "execution_count": null,
   "metadata": {},
   "outputs": [],
   "source": [
    "\"\"\"results_f107=df['f107cm'].to_numpy()\n",
    "ind=np.argpartition(results_f107, -5)[-5:]\n",
    "results_f107[ind]\"\"\""
   ]
  },
  {
   "cell_type": "code",
   "execution_count": null,
   "metadata": {
    "colab": {
     "base_uri": "https://localhost:8080/",
     "height": 1000
    },
    "id": "Hxd9Cifc5pMl",
    "outputId": "4e63d0a3-dc5e-476b-d6b9-c640f25d86b2"
   },
   "outputs": [],
   "source": [
    "plt.figure(figsize=(20,20))\n",
    "plt.plot(df[['mean_I3L2']], label=\"L2 - 3a ordem\")\n",
    "plt.plot(df[['mean_I3L1']], label=\"L1 - 3a ordem\")\n",
    "plt.plot(df[['mean_I2L2']], label=\"L2 - 2a ordem\")\n",
    "plt.plot(df[['mean_I2L1']], label=\"L1 - 2a ordem\")\n",
    "plt.plot(df[['f107cm']]/100000., label=\"F10.7cm\")\n",
    "plt.title('Atrasos ionosféricos de 2ª ordem')\n",
    "plt.xlabel('Dia do ano')\n",
    "plt.ylabel('Atraso ionosférico de 2ª ordem (m)')\n",
    "plt.legend()\n",
    "plt.show()"
   ]
  },
  {
   "cell_type": "markdown",
   "metadata": {
    "id": "ud9wOKh87u_8"
   },
   "source": [
    "# Correlação"
   ]
  },
  {
   "cell_type": "code",
   "execution_count": null,
   "metadata": {
    "colab": {
     "base_uri": "https://localhost:8080/",
     "height": 357
    },
    "id": "IWJcHCFa7uxZ",
    "outputId": "e72fe8a2-d29a-45e8-e729-af540478a6bf"
   },
   "outputs": [],
   "source": [
    "#Correlation using pandas\n",
    "#df2=df.ffill()\n",
    "df[cols+[\"f107cm\"]].corr(method='pearson')"
   ]
  },
  {
   "cell_type": "code",
   "execution_count": null,
   "metadata": {
    "id": "x-vPTRLt8tpJ"
   },
   "outputs": [],
   "source": [
    "compareSeries=df2[['mean_I2L1']]\n",
    "plt.scatter(df2[['f107cm']],compareSeries)\n",
    "plt.annotate(\"r-squared = {:.3f}\".format(r2_score(df2[['f107cm']], compareSeries)), (0, 1), xycoords='figure points')\n",
    "y_test, y_predicted = df2[['f107cm']].to_numpy().reshape(-1,1), np.array(compareSeries).reshape(-1,1)\n",
    "plt.plot(y_test, LinearRegression().fit(y_test, y_predicted).predict(y_test), color=\"red\")"
   ]
  },
  {
   "cell_type": "markdown",
   "metadata": {},
   "source": [
    "# Gráficos das séries"
   ]
  },
  {
   "cell_type": "code",
   "execution_count": null,
   "metadata": {},
   "outputs": [],
   "source": [
    "fig, axs = plt.subplots(4, figsize=(15, 10))\n",
    "fig.tight_layout()\n",
    "axs[0].set_title('Média diária de atrasos ionosféricos de ordem superior (mm)')\n",
    "axs[0].plot(df['date'],df['mean_I3L2']*1000, label=\"L2 - 3a ordem\")\n",
    "axs[0].plot(df['date'],df['mean_I3L1']*1000, label=\"L1 - 3a ordem\")\n",
    "axs[0].plot(df['date'],df['mean_I2L2']*1000, label=\"L2 - 2a ordem\")\n",
    "axs[0].plot(df['date'],df['mean_I2L1']*1000, label=\"L1 - 2a ordem\")\n",
    "axs[0].legend()\n",
    "axs[1].set_title('Média diária do VTEC (TECU)')\n",
    "axs[1].plot(df['date'],df['mean_VTEC'], label=\"VTEC\")\n",
    "axs[1].legend()\n",
    "axs[2].set_title('F10.7cm (índice de fluxo solar)')\n",
    "axs[2].plot(df['date'],df['f107cm'], label=\"F10.7cm\")\n",
    "axs[2].legend()\n",
    "axs[3].set_title('Ap (índice de atividade geomagnética)')\n",
    "axs[3].plot(df['date'],df['ap'], label=\"Ap\")\n",
    "axs[3].legend()\n",
    "plt.xlabel('Ano')\n",
    "plt.show()"
   ]
  },
  {
   "cell_type": "code",
   "execution_count": null,
   "metadata": {},
   "outputs": [],
   "source": [
    "fig, axs = plt.subplots(6, figsize=(15, 10))\n",
    "fig.tight_layout()\n",
    "axs[0].set_title('Média diária de atrasos ionosféricos de ordem superior (mm)')\n",
    "axs[0].plot(df['date'],df['mean_I3L2']*1000, label=\"L2 - 3a ordem\")\n",
    "axs[0].plot(df['date'],df['mean_I3L1']*1000, label=\"L1 - 3a ordem\")\n",
    "axs[0].plot(df['date'],df['mean_I2L2']*1000, label=\"L2 - 2a ordem\")\n",
    "axs[0].plot(df['date'],df['mean_I2L1']*1000, label=\"L1 - 2a ordem\")\n",
    "axs[0].legend()\n",
    "axs[1].set_title('Máximos diários dos atrasos ionosféricos de ordem superior (mm)')\n",
    "axs[1].plot(df['date'],df['max_I3L2']*1000, label=\"L2 - 3a ordem\")\n",
    "axs[1].plot(df['date'],df['max_I3L1']*1000, label=\"L1 - 3a ordem\")\n",
    "axs[1].plot(df['date'],df['max_I2L2']*1000, label=\"L2 - 2a ordem\")\n",
    "axs[1].plot(df['date'],df['max_I2L1']*1000, label=\"L1 - 2a ordem\")\n",
    "axs[1].legend()\n",
    "axs[2].set_title('Mínimo diário dos atrasos ionosféricos de ordem superior (mm)')\n",
    "axs[2].plot(df['date'],df['min_I3L2']*1000, label=\"L2 - 3a ordem\")\n",
    "axs[2].plot(df['date'],df['min_I3L1']*1000, label=\"L1 - 3a ordem\")\n",
    "axs[2].plot(df['date'],df['min_I2L2']*1000, label=\"L2 - 2a ordem\")\n",
    "axs[2].plot(df['date'],df['min_I2L1']*1000, label=\"L1 - 2a ordem\")\n",
    "axs[2].legend()\n",
    "axs[3].set_title('Média diária do VTEC (TECU)')\n",
    "axs[3].plot(df['date'],df['mean_VTEC'], label=\"VTEC\")\n",
    "axs[3].legend()\n",
    "axs[4].set_title('F10.7cm (índice de fluxo solar)')\n",
    "axs[4].plot(df['date'],df['f107cm'], label=\"F10.7cm\")\n",
    "axs[4].legend()\n",
    "axs[5].set_title('Ap (índice de atividade geomagnética)')\n",
    "axs[5].plot(df['date'],df['ap'], label=\"Ap\")\n",
    "axs[5].legend()\n",
    "plt.xlabel('Ano')\n",
    "plt.show()"
   ]
  },
  {
   "cell_type": "markdown",
   "metadata": {},
   "source": [
    "## Gráfico com valores absolutos"
   ]
  },
  {
   "cell_type": "code",
   "execution_count": null,
   "metadata": {},
   "outputs": [],
   "source": [
    "fig, axs = plt.subplots(5, figsize=(15, 10))\n",
    "fig.tight_layout()\n",
    "i=0\n",
    "axs[i].set_title('Média diária dos valores dos atrasos ionosféricos de ordem superior (mm)')\n",
    "axs[i].plot(df['date'],df['mean_I3L2']*1000, label=\"L2 - 3a ordem\")\n",
    "axs[i].plot(df['date'],df['mean_I3L1']*1000, label=\"L1 - 3a ordem\")\n",
    "axs[i].plot(df['date'],df['mean_I2L2']*1000, label=\"L2 - 2a ordem\")\n",
    "axs[i].plot(df['date'],df['mean_I2L1']*1000, label=\"L1 - 2a ordem\")\n",
    "axs[i].legend(loc=1)\n",
    "i+=1\n",
    "axs[i].set_title('Média diária dos valores absolutos dos atrasos ionosféricos de ordem superior (mm)')\n",
    "axs[i].plot(df['date'],df['meanA_I3L2']*1000, label=\"L2 - 3a ordem\")\n",
    "axs[i].plot(df['date'],df['meanA_I3L1']*1000, label=\"L1 - 3a ordem\")\n",
    "axs[i].plot(df['date'],df['meanA_I2L2']*1000, label=\"L2 - 2a ordem\")\n",
    "axs[i].plot(df['date'],df['meanA_I2L1']*1000, label=\"L1 - 2a ordem\")\n",
    "axs[i].legend(loc=1)\n",
    "i+=1\n",
    "axs[i].set_title('Máximos diários dos valores absolutos dos atrasos ionosféricos de ordem superior (mm)')\n",
    "axs[i].plot(df['date'],df['maxA_I3L2']*1000, label=\"L2 - 3a ordem\")\n",
    "axs[i].plot(df['date'],df['maxA_I3L1']*1000, label=\"L1 - 3a ordem\")\n",
    "axs[i].plot(df['date'],df['maxA_I2L2']*1000, label=\"L2 - 2a ordem\")\n",
    "axs[i].plot(df['date'],df['maxA_I2L1']*1000, label=\"L1 - 2a ordem\")\n",
    "axs[i].legend(loc=1)\n",
    "i+=1\n",
    "\"\"\"axs[i].set_title('Mínimos diários dos valores absolutos dos atrasos ionosféricos de ordem superior (mm)')\n",
    "axs[i].plot(df['date'],df['minA_I3L2']*1000, label=\"L2 - 3a ordem\")\n",
    "axs[i].plot(df['date'],df['minA_I3L1']*1000, label=\"L1 - 3a ordem\")\n",
    "axs[i].plot(df['date'],df['minA_I2L2']*1000, label=\"L2 - 2a ordem\")\n",
    "axs[i].plot(df['date'],df['minA_I2L1']*1000, label=\"L1 - 2a ordem\")\n",
    "axs[i].legend(loc=1)\n",
    "i+=1\"\"\"\n",
    "axs[i].set_title('Média diária do VTEC (TECU)')\n",
    "axs[i].plot(df['date'],df['mean_VTEC'], label=\"VTEC\")\n",
    "axs[i].legend(loc=1)\n",
    "i+=1\n",
    "axs[i].set_title('F10.7cm (índice de fluxo solar)')\n",
    "axs[i].plot(df['date'],df['f107cm'], label=\"F10.7cm\")\n",
    "axs[i].legend(loc=1)\n",
    "\"\"\"i+=1\n",
    "axs[i].set_title('Ap (índice de atividade geomagnética)')\n",
    "axs[i].plot(df['date'],df['ap'], label=\"Ap\")\n",
    "axs[i].legend(loc=1)\"\"\"\n",
    "plt.xlabel('Ano')\n",
    "plt.savefig(os.path.join(mount_folder,\"absValues.svg\"))\n",
    "plt.show()"
   ]
  },
  {
   "cell_type": "code",
   "execution_count": null,
   "metadata": {},
   "outputs": [],
   "source": []
  }
 ],
 "metadata": {
  "colab": {
   "collapsed_sections": [],
   "name": "Cópia de Cópia de Cópia de Cópia de pibit.ipynb",
   "provenance": []
  },
  "kernelspec": {
   "display_name": "Python 3 (ipykernel)",
   "language": "python",
   "name": "python3"
  },
  "language_info": {
   "codemirror_mode": {
    "name": "ipython",
    "version": 3
   },
   "file_extension": ".py",
   "mimetype": "text/x-python",
   "name": "python",
   "nbconvert_exporter": "python",
   "pygments_lexer": "ipython3",
   "version": "3.8.10"
  }
 },
 "nbformat": 4,
 "nbformat_minor": 1
}
