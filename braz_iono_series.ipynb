{
 "cells": [
  {
   "cell_type": "code",
   "execution_count": null,
   "metadata": {},
   "outputs": [],
   "source": [
    "print(\"\"\"MIT License\n",
    "\n",
    "Copyright (c) 2022 Mauricio Carvalho Mathias de Paulo and Danilo \n",
    "\n",
    "Permission is hereby granted, free of charge, to any person obtaining a copy\n",
    "of this software and associated documentation files (the \"Software\"), to deal\n",
    "in the Software without restriction, including without limitation the rights\n",
    "to use, copy, modify, merge, publish, distribute, sublicense, and/or sell\n",
    "copies of the Software, and to permit persons to whom the Software is\n",
    "furnished to do so, subject to the following conditions:\n",
    "\n",
    "The above copyright notice and this permission notice shall be included in all\n",
    "copies or substantial portions of the Software.\n",
    "\n",
    "THE SOFTWARE IS PROVIDED \"AS IS\", WITHOUT WARRANTY OF ANY KIND, EXPRESS OR\n",
    "IMPLIED, INCLUDING BUT NOT LIMITED TO THE WARRANTIES OF MERCHANTABILITY,\n",
    "FITNESS FOR A PARTICULAR PURPOSE AND NONINFRINGEMENT. IN NO EVENT SHALL THE\n",
    "AUTHORS OR COPYRIGHT HOLDERS BE LIABLE FOR ANY CLAIM, DAMAGES OR OTHER\n",
    "LIABILITY, WHETHER IN AN ACTION OF CONTRACT, TORT OR OTHERWISE, ARISING FROM,\n",
    "OUT OF OR IN CONNECTION WITH THE SOFTWARE OR THE USE OR OTHER DEALINGS IN THE\n",
    "SOFTWARE.\"\"\")"
   ]
  },
  {
   "cell_type": "markdown",
   "metadata": {
    "id": "7YdoO52YgHeG"
   },
   "source": [
    "## Libraries"
   ]
  },
  {
   "cell_type": "code",
   "execution_count": null,
   "metadata": {
    "id": "LBbfWGPpgGyl"
   },
   "outputs": [],
   "source": [
    "from datetime import datetime\n",
    "import pandas as pd\n",
    "import urllib\n",
    "import os\n",
    "from zipfile import ZipFile\n",
    "import subprocess\n",
    "import numpy as np\n",
    "import matplotlib.pyplot as plt\n",
    "import re\n",
    "import io\n",
    "import urllib.request\n",
    "import scipy\n",
    "from sklearn.metrics import r2_score\n",
    "from sklearn.linear_model import LinearRegression"
   ]
  },
  {
   "cell_type": "markdown",
   "metadata": {
    "id": "urpje2RqgOUE"
   },
   "source": [
    "## Downloading data"
   ]
  },
  {
   "cell_type": "code",
   "execution_count": null,
   "metadata": {
    "id": "aziMtW6rYnMl"
   },
   "outputs": [],
   "source": [
    "start_doy = 1\n",
    "end_doy = 365\n",
    "end_year=2019\n",
    "start_year=2013\n",
    "#year=2019\n",
    "output_folder = \"MyDrive/0braz\"\n",
    "station=\"braz\"\n",
    "#We recommend running the code one year at a time, because the servers might disable long download sequences."
   ]
  },
  {
   "cell_type": "code",
   "execution_count": null,
   "metadata": {
    "colab": {
     "base_uri": "https://localhost:8080/"
    },
    "id": "3aJRAnc5deiF",
    "outputId": "3a790570-cf2a-448b-c21f-8cd0fd0b6fdc"
   },
   "outputs": [],
   "source": [
    "#from google.colab import drive\n",
    "mount_folder = \"/mnt/ext4/mauricio/artigos/braz_iono_series/\"\n",
    "#drive.mount(mount_folder)\n",
    "folder = os.path.join(mount_folder,output_folder)\n",
    "os.makedirs(folder,exist_ok=True)\n",
    "os.chdir(folder)"
   ]
  },
  {
   "cell_type": "code",
   "execution_count": null,
   "metadata": {
    "colab": {
     "base_uri": "https://localhost:8080/"
    },
    "id": "i8_pfImtCOSp",
    "outputId": "55d55005-0178-4529-9049-887066ff951f"
   },
   "outputs": [],
   "source": [
    "print(folder)"
   ]
  },
  {
   "cell_type": "markdown",
   "metadata": {
    "id": "2lDbptxQz3sX"
   },
   "source": [
    "# Baixar os programas de conversão e limpeza do rinex"
   ]
  },
  {
   "cell_type": "code",
   "execution_count": null,
   "metadata": {
    "id": "Nf-NJsQ4af_j"
   },
   "outputs": [],
   "source": [
    "if not os.path.exists(\"crx2rnx\"):\n",
    "  !wget https://terras.gsi.go.jp/ja/crx2rnx/RNXCMP_4.1.0_src.tar.gz\n",
    "  !tar -xzvf RNXCMP_4.1.0_src.tar.gz\n",
    "  !gcc ./RNXCMP_4.1.0_src/source/crx2rnx.c -o crx2rnx\n",
    "if not os.path.exists(\"teqc\"):\n",
    "  !wget https://www.unavco.org/software/data-processing/teqc/development/teqc_CentOSLx86_64s.zip -O teqc.zip\n",
    "  !unzip -o teqc.zip "
   ]
  },
  {
   "cell_type": "markdown",
   "metadata": {
    "id": "6V6OCgti0AyK"
   },
   "source": [
    "# Baixar os arquivos rinex e executar a limpeza dos arquivos"
   ]
  },
  {
   "cell_type": "code",
   "execution_count": null,
   "metadata": {
    "colab": {
     "base_uri": "https://localhost:8080/"
    },
    "id": "ZD3nD_tj6UD1",
    "outputId": "f2ed849f-24f8-46fd-932d-83fdf7f8d3ca"
   },
   "outputs": [],
   "source": [
    "for year in range (start_year,end_year+1):\n",
    "  for doy in range (start_doy,end_doy+1+(0 if year%4!=0 else 1)):\n",
    "    link=\"\"\"https://geoftp.ibge.gov.br/informacoes_sobre_posicionamento_geodesico/rbmc/dados/{2}/{0:03}/{1}{0:03}1.zip\"\"\".format(doy,station,year)\n",
    "    rbmcfile=link.split(\"/\")[-1]\n",
    "    print(link)\n",
    "    zipFile=str(year)+rbmcfile\n",
    "    if not os.path.exists(zipFile) or os.path.getsize(zipFile)<1024:\n",
    "      !wget \"$link\" -O $zipFile\n",
    "      !chmod 777 crx2rnx teqc \n",
    "      !unzip -o $zipFile \n",
    "      crxfile=rbmcfile.replace(\".zip\",'.{}d'.format(year%100))\n",
    "      if os.path.exists(crxfile):\n",
    "          !./crx2rnx -f $crxfile\n",
    "      #print(\"Output file should be {}. Please check the Files tab.\".format(\"rjni2361.21d\"[:-1]+\"o\"))\n",
    "      rnx2file=crxfile[:-1]+\"o\"\n",
    "      newFile=rnx2file.replace(\".\",\"gps.\")\n",
    "      !./teqc -E -C -R -S -O.obs L1L2C1P2S1S2 +out $newFile $rnx2file \n",
    "      print(\"RINEX 2 file saved to {}\".format(newFile))\n",
    "      #Let's fix the lack of wavelength factor\n",
    "      !sed '/^.*APPROX POSITION XYZ.*/a \\     1     1                                                WAVELENGTH FACT L1\\/2' -i $newFile\n",
    "    else:\n",
    "      print(\"File exists {}\".format(zipFile))"
   ]
  },
  {
   "cell_type": "markdown",
   "metadata": {
    "id": "OnEcfTY5XhVg"
   },
   "source": [
    "# Criação da função para criar os arquivos de configuração do rinex_ho"
   ]
  },
  {
   "cell_type": "code",
   "execution_count": null,
   "metadata": {
    "id": "yJDFTYeZeJmt"
   },
   "outputs": [],
   "source": [
    "#helper function to get month from doy and year\n",
    "def getMonth(year,doy):\n",
    "  weird_date=np.datetime64(year, 'Y')+np.timedelta64(doy,'D')\n",
    "  return  int(weird_date.astype('datetime64[M]').astype(int)%12+1)"
   ]
  },
  {
   "cell_type": "code",
   "execution_count": null,
   "metadata": {
    "id": "uQLjWIjMrhbf"
   },
   "outputs": [],
   "source": [
    "def make_rinex_ha(doy, year, station, path):\n",
    "  month=getMonth(year,doy)\n",
    "  rinex_ha = \"\"\"{3}/{0}{1:03}1gps.{2}o             \t\t\t//obs file\n",
    "{3}/{0}{1:03}1.{2}n             \t\t\t//nav file\n",
    "{3}/{0}{1:03}1c.{2}o             \t\t\t//new obs file\n",
    "{3}/{0}{1:03}_{2}_Out              \t\t\t//Name of output files\n",
    "4115014.0848 -4550641.5491 -1741444.0190    \t//Receiver coordinates (if 0.0 => Try to read coordinates from RINEX)\n",
    "10                                            \t//Elevation Mask (means that observables under this mask won't be corrected)\n",
    "1\t                 \t\t\t//Save output and log files (yes=1; no=0)\n",
    "2\t\t         \t\t\t//0 = Tec from raw pseudorange; 1 = TEC from smothed pseudorange by phase; 2 = TEC from GIM;3 = TEC from carrier levelled by code\n",
    "{3}/ionex/codg{1:03}0.{2}i             \t\t\t//Name of the CODE map: In the case before option \"To use CODE map\" = 1 (ftp://ftp.unibe.ch/aiub/CODE/)  \n",
    "0//-10.708                    \t\t\t//DCB (P1-P2) = receiver bias in ns (nano-segundos): In the case computing TEC from pseudorange \n",
    "{3}/dcb/P1C1{2}{4:02}.DCB          \t\t\t        //DCB (P1-C1) - P1C1 bias for satellite - Found at: ftp://ftp.unibe.ch/aiub/CODE/\n",
    "{3}/dcb/P1P2{2}{4:02}.DCB          \t\t\t        //DCB (P1-P2) - P1P2 bias for satellites - Found at: ftp://ftp.unibe.ch/aiub/CODE/\n",
    "0                        \t\t\t//0 = Dipolar model; 1 = CGM from PIM; 2 = IGRF model\n",
    "IGRF_COEF/IGRF13.COF           \t\t\t//Name of the IGRF coefficients\"\"\".format(station,doy,year%100,path,month)\n",
    "  #print(rinex_ha)\n",
    "  f = open(\"rinex_ha.inp\", \"w\")\n",
    "  f.write(rinex_ha)\n",
    "  f.close()\n"
   ]
  },
  {
   "cell_type": "markdown",
   "metadata": {
    "id": "xFIoQVHJjUUq"
   },
   "source": [
    "# Baixando mapas de ionosfera"
   ]
  },
  {
   "cell_type": "code",
   "execution_count": null,
   "metadata": {
    "id": "-wfqhGIljSEk"
   },
   "outputs": [],
   "source": [
    "def downloadIonex(doy,year):\n",
    "  baseurl=f\"ftp://igs.ign.fr/pub/igs/products/ionosphere/{year}/{doy:03}/codg{doy:03}0.{year%100}i.Z\"\n",
    "  os.makedirs(\"ionex\",exist_ok=True)\n",
    "  local_filename = os.path.join(\"ionex\",baseurl.split('/')[-1])\n",
    "  dcb_file=local_filename.replace('.Z','')\n",
    "  if not os.path.exists(dcb_file):\n",
    "    print(\"Downloading \", baseurl, dcb_file)\n",
    "    #urllib.request.urlretrieve(baseurl, local_filename)\n",
    "    !wget $baseurl -O $local_filename\n",
    "    print(\"Saved \",local_filename)\n",
    "    if os.path.getsize(local_filename) == 0:\n",
    "      print(\"Trying to get rapid, because final ionex was not found.\")\n",
    "      baseurl=baseurl.replace(\"codg\",\"corg\")\n",
    "      !wget $baseurl -O $local_filename\n",
    "    !gunzip $local_filename -f"
   ]
  },
  {
   "cell_type": "code",
   "execution_count": null,
   "metadata": {
    "colab": {
     "base_uri": "https://localhost:8080/"
    },
    "id": "wkbR0sc-j4ML",
    "outputId": "557bd280-3103-4524-cf30-16d2779e6b5c"
   },
   "outputs": [],
   "source": [
    "for year in range (start_year,end_year+1):\n",
    "  for doy in range (start_doy,end_doy+1):\n",
    "    downloadIonex(doy,year)"
   ]
  },
  {
   "cell_type": "markdown",
   "metadata": {
    "id": "YAtmXtrQ0jGk"
   },
   "source": [
    "# Baixando os arquivos de atraso de hardware"
   ]
  },
  {
   "cell_type": "code",
   "execution_count": null,
   "metadata": {
    "colab": {
     "base_uri": "https://localhost:8080/"
    },
    "id": "bFk3V_4m3b7t",
    "outputId": "2abfedc7-d9b8-42c8-8559-da6aacc69f0b"
   },
   "outputs": [],
   "source": [
    "dcbfolder=os.path.join(folder,\"dcb\")\n",
    "os.makedirs(dcbfolder,exist_ok=True)\n",
    "for year in range (start_year,end_year+1):\n",
    "  for month in range (1,13):\n",
    "    p1c1=f\"P1C1{year%100}{month:02}.DCB\"\n",
    "    p1p2=f\"P1P2{year%100}{month:02}.DCB\"\n",
    "    if not os.path.exists(f\"{dcbfolder}/{p1c1}\"):\n",
    "      !wget \"http://ftp.aiub.unibe.ch/CODE/{year}/{p1c1}.Z\" -O \"{dcbfolder}/{p1c1}.Z\"\n",
    "      !uncompress -f \"{dcbfolder}/{p1c1}.Z\" \n",
    "    if not os.path.exists(f\"{dcbfolder}/{p1p2}\"):\n",
    "      !wget \"http://ftp.aiub.unibe.ch/CODE/{year}/{p1p2}.Z\" -O \"{dcbfolder}/{p1p2}.Z\"\n",
    "      !uncompress -f \"{dcbfolder}/{p1p2}.Z\" \n",
    "!ls {dcbfolder}"
   ]
  },
  {
   "cell_type": "markdown",
   "metadata": {
    "id": "Im6Fj8VI2CgO"
   },
   "source": [
    "# Compilando o Rinex_ho"
   ]
  },
  {
   "cell_type": "code",
   "execution_count": null,
   "metadata": {
    "id": "YWbarlSKEhIY"
   },
   "outputs": [],
   "source": [
    "!rm -rf /content/drive/MyDrive/0rjni/rinex_ho-main"
   ]
  },
  {
   "cell_type": "code",
   "execution_count": null,
   "metadata": {
    "id": "ohGxKspgFTI7"
   },
   "outputs": [],
   "source": [
    "!cd ~\n"
   ]
  },
  {
   "cell_type": "code",
   "execution_count": null,
   "metadata": {
    "colab": {
     "base_uri": "https://localhost:8080/"
    },
    "id": "KUQDfOlktVi8",
    "outputId": "61009086-cfaa-4d84-afef-2de0f2e9c3da"
   },
   "outputs": [],
   "source": [
    "%cd $folder\n",
    "if os.path.exists(\"rinex_ho\"):\n",
    "  %cd rinex_ho\n",
    "else:\n",
    "  !git clone \"https://github.com/mauriciodev/rinex_ho.git\"\n",
    "  !git checkout VTEC\n",
    "  %cd rinex_ho\n",
    "  !cmake .\n",
    "  !make"
   ]
  },
  {
   "cell_type": "markdown",
   "metadata": {
    "id": "0KkjkdGz2PRQ"
   },
   "source": [
    "# Executando o Rinex_ho para cada conjunto de arquivos rinex"
   ]
  },
  {
   "cell_type": "code",
   "execution_count": null,
   "metadata": {
    "colab": {
     "base_uri": "https://localhost:8080/",
     "height": 1000
    },
    "id": "_lUTPddZ8kZh",
    "outputId": "9d7022fa-6015-4d63-b6b1-fe8a57346ff6"
   },
   "outputs": [],
   "source": [
    "os.chdir(os.path.join(folder,\"rinex_ho\"))\n",
    "overwrite=False\n",
    "!chmod 777 Rinex_ho\n",
    "for year in range (start_year,end_year+1):\n",
    "  for doy in range (start_doy,end_doy+1+(0 if year%4!=0 else 1)):\n",
    "    make_rinex_ha(doy,year,station,folder)\n",
    "    tecFile=\"{3}/{0}{1:03}_{2}_Out_tec.txt\".format(station,doy,year%100,folder)\n",
    "    #less than 1kb is probably a faulty file\n",
    "    if (not os.path.exists(tecFile)) or (overwrite==True) or (os.path.getsize(tecFile) < 1024):\n",
    "      print(\"Running Rinex_ho for doy {0}, year {1}, station {2}, folder: {3}\".format(doy,year,station,folder))\n",
    "      subprocess.run(\"./Rinex_ho\", shell=True, stdout=subprocess.DEVNULL)\n",
    "    else:\n",
    "      print(\"TEC file {0} already exists. Skipping.\".format(tecFile))"
   ]
  },
  {
   "cell_type": "markdown",
   "metadata": {
    "id": "xno9OJN62X7S"
   },
   "source": [
    "# Visualização dos resultados da 2ª ordem"
   ]
  },
  {
   "cell_type": "markdown",
   "metadata": {
    "id": "CjWqGmg79PZ8"
   },
   "source": [
    "Fazer o laço para todos os doys e para os outros arquivos _Out"
   ]
  },
  {
   "cell_type": "code",
   "execution_count": null,
   "metadata": {},
   "outputs": [],
   "source": [
    "os.chdir(folder)"
   ]
  },
  {
   "cell_type": "code",
   "execution_count": null,
   "metadata": {
    "colab": {
     "base_uri": "https://localhost:8080/"
    },
    "id": "-jDny7dyVqCU",
    "outputId": "e71da24a-9568-496b-830c-05c6ffe66c2b"
   },
   "outputs": [],
   "source": [
    "#This might take a while\n",
    "def makeTimeSeries(sufix, station):\n",
    "  results=[]\n",
    "  for year in range (start_year,end_year+1): \n",
    "    for doy in range(start_doy,end_doy+1+(0 if year%4!=0 else 1)):\n",
    "      df=pd.read_fwf(\"{1}{0:03}_{2}_{3}.txt\".format(doy,station,year%100,sufix))\n",
    "      df.replace(to_replace=9999999,value=np.NaN,inplace=True)\n",
    "      df.replace(to_replace=999999,value=np.NaN,inplace=True)\n",
    "      df['h:m:s'] = np.NaN\n",
    "      media = df.mean(skipna=True).mean()\n",
    "      media = (media if not np.isnan(media) else 0)\n",
    "      results.append(media)\n",
    "  return results\n",
    "  #print(results_I2L1)\n",
    "  #print(doy)\n",
    "  #df\n",
    "results_I2L1=makeTimeSeries(\"Out_I2L1\",station)\n",
    "print(\"I2L1 finalizado.\")\n",
    "results_I2L2=makeTimeSeries(\"Out_I2L2\",station)\n",
    "print(\"I2L2 finalizado.\")\n",
    "results_I3L1=makeTimeSeries(\"Out_I3L1\",station)\n",
    "print(\"I3L1 finalizado.\")\n",
    "results_I3L2=makeTimeSeries(\"Out_I3L2\",station)\n",
    "print(\"I3L2 finalizado.\")\n",
    "results_tec=makeTimeSeries(\"Out_tec\",station)\n",
    "print(\"TEC finalizado.\")\n",
    "\n",
    "#Replicar para os demais"
   ]
  },
  {
   "cell_type": "markdown",
   "metadata": {
    "id": "c45Gih7p_3R9"
   },
   "source": [
    "#Para salvar a série temporal "
   ]
  },
  {
   "cell_type": "code",
   "execution_count": null,
   "metadata": {
    "colab": {
     "base_uri": "https://localhost:8080/",
     "height": 235
    },
    "id": "rAjkSsNn_SE6",
    "outputId": "350668d3-56fa-4d71-c2be-852077d34eaf"
   },
   "outputs": [],
   "source": [
    "os.makedirs(\"results\",exist_ok=True)\n",
    "np.savetxt('results/results_I2L1.txt',np.array(results_I2L1))\n",
    "np.savetxt('results/results_I2L2.txt',np.array(results_I2L2))\n",
    "np.savetxt('results/results_I3L1.txt',np.array(results_I3L1))\n",
    "np.savetxt('results/results_I3L2.txt',np.array(results_I3L2))\n",
    "np.savetxt('results/results_tec.txt',np.array(results_tec))"
   ]
  },
  {
   "cell_type": "code",
   "execution_count": null,
   "metadata": {
    "id": "Ggs7AO8g_w69"
   },
   "outputs": [],
   "source": [
    "results_I2L1 = np.loadtxt('results/results_I2L1.txt')\n",
    "results_I2L2 = np.loadtxt('results/results_I2L2.txt')\n",
    "results_I3L1 = np.loadtxt('results/results_I3L1.txt')\n",
    "results_I3L2 = np.loadtxt('results/results_I3L2.txt')\n",
    "results_tec = np.loadtxt('results/results_tec.txt')"
   ]
  },
  {
   "cell_type": "markdown",
   "metadata": {
    "id": "dImF83jvAm8e"
   },
   "source": [
    "Plotar um gráfico para cada arquivo result e um gráfico com os quatro"
   ]
  },
  {
   "cell_type": "code",
   "execution_count": null,
   "metadata": {
    "colab": {
     "base_uri": "https://localhost:8080/",
     "height": 295
    },
    "id": "5IyLi7puyVX0",
    "outputId": "d6febce7-0a91-4a86-c4fa-1b096bdc1306"
   },
   "outputs": [],
   "source": [
    "plt.plot(results_I2L1)\n",
    "plt.title('I2L1')\n",
    "plt.xlabel('Dia do ano')\n",
    "plt.ylabel('atraso ionosférico de 2ª ordem')\n",
    "plt.show()"
   ]
  },
  {
   "cell_type": "code",
   "execution_count": null,
   "metadata": {
    "colab": {
     "base_uri": "https://localhost:8080/",
     "height": 633
    },
    "id": "SueNHkpZ-1eu",
    "outputId": "82f7e54c-5003-4c77-abab-db0e168a90a6"
   },
   "outputs": [],
   "source": [
    "x_axis=np.arange(start_doy,end_doy+1)\n",
    "plt.plot(results_I2L1)\n",
    "#plt.xticks(np.arange(start_doy,end_doy+1, 0.5)) #intervalos do eixo x\n",
    "plt.title('I2L1')\n",
    "plt.xlabel('Dia do ano')\n",
    "plt.ylabel('Atraso ionosférico de 2ª ordem na L1')\n",
    "plt.savefig('results/I2L1.png') #antes do show\n",
    "plt.show()"
   ]
  },
  {
   "cell_type": "code",
   "execution_count": null,
   "metadata": {
    "colab": {
     "base_uri": "https://localhost:8080/",
     "height": 295
    },
    "id": "TRsHj3xvrleY",
    "outputId": "0aeb0de0-13d6-49c7-8bc4-574ad98937de"
   },
   "outputs": [],
   "source": [
    "plt.plot(results_I2L2)\n",
    "plt.title('I2L2')\n",
    "plt.xlabel('Dia do ano')\n",
    "plt.ylabel('Atraso ionosférico de 2ª ordem na L2')\n",
    "plt.show()"
   ]
  },
  {
   "cell_type": "code",
   "execution_count": null,
   "metadata": {
    "colab": {
     "base_uri": "https://localhost:8080/",
     "height": 295
    },
    "id": "C2VA0GIKG440",
    "outputId": "a581e298-f0f5-4f48-8ae6-ed26405b33af"
   },
   "outputs": [],
   "source": [
    "plt.plot(results_I3L1)\n",
    "plt.title('I3L1')\n",
    "plt.xlabel('Dia do ano')\n",
    "plt.ylabel('Atraso ionosférico de 3ª ordem na L1')\n",
    "plt.show()"
   ]
  },
  {
   "cell_type": "code",
   "execution_count": null,
   "metadata": {
    "colab": {
     "base_uri": "https://localhost:8080/",
     "height": 295
    },
    "id": "IVvqTcECG6F9",
    "outputId": "16e6af6e-ec40-41ac-e5ca-1331aaa1b988"
   },
   "outputs": [],
   "source": [
    "plt.plot(results_I3L2)\n",
    "plt.title('I3L2')\n",
    "plt.xlabel('Dia do ano')\n",
    "plt.ylabel('Atraso ionosférico de 3ª ordem na L2')\n",
    "plt.show()"
   ]
  },
  {
   "cell_type": "code",
   "execution_count": null,
   "metadata": {
    "colab": {
     "base_uri": "https://localhost:8080/",
     "height": 295
    },
    "id": "-mrFedD6qyfc",
    "outputId": "cd57ca40-018e-4947-e996-63cd0614b067"
   },
   "outputs": [],
   "source": [
    "plt.figure(figsize=(12,6))\n",
    "plt.plot(results_I3L2, label=\"L2 - 3a ordem\")\n",
    "plt.plot(results_I3L1, label=\"L1 - 3a ordem\")\n",
    "plt.plot(results_I2L2, label=\"L2 - 2a ordem\")\n",
    "plt.plot(results_I2L1, label=\"L1 - 2a ordem\")\n",
    "plt.title('Efeitos ionosféricos de ordem superior')\n",
    "plt.xlabel('Dia do ano')\n",
    "plt.ylabel('Efeito ionosférico (m)')\n",
    "plt.legend()\n",
    "plt.show()"
   ]
  },
  {
   "cell_type": "code",
   "execution_count": null,
   "metadata": {
    "colab": {
     "base_uri": "https://localhost:8080/",
     "height": 295
    },
    "id": "w6rEtKyZl85e",
    "outputId": "e4a6fb53-dc83-4603-fc6d-5f12a9de7527"
   },
   "outputs": [],
   "source": [
    "plt.plot(results_tec)\n",
    "plt.title('TEC ao longo do ano')\n",
    "plt.xlabel('Dia do ano')\n",
    "plt.ylabel('TEC')\n",
    "plt.show()"
   ]
  },
  {
   "cell_type": "markdown",
   "metadata": {
    "id": "pqnlHqYNxGne"
   },
   "source": [
    "# Space weather"
   ]
  },
  {
   "cell_type": "code",
   "execution_count": null,
   "metadata": {
    "colab": {
     "base_uri": "https://localhost:8080/"
    },
    "id": "Lfv7muQdyjKk",
    "outputId": "e5beb7b1-5d66-4698-e455-9eb7f826b2e5"
   },
   "outputs": [],
   "source": [
    "for year in range (start_year,end_year+1):\n",
    "  baseurl = f\"ftp://ftp.gfz-potsdam.de/pub/home/obs/Kp_ap_Ap_SN_F107/Kp_ap_Ap_SN_F107_{year}.txt\"\n",
    "  os.makedirs(\"f107\",exist_ok=True)\n",
    "  local_filename = os.path.join(\"f107\",baseurl.split('/')[-1])\n",
    "  f107_file=local_filename.replace('.gz','')\n",
    "  print(\"Downloading \", baseurl)\n",
    "  !wget $baseurl -O $local_filename\n",
    "  print(\"Saved \",local_filename)"
   ]
  },
  {
   "cell_type": "code",
   "execution_count": null,
   "metadata": {
    "id": "K3nEGIYi4nvC"
   },
   "outputs": [],
   "source": [
    "f107=[]\n",
    "for year in range (start_year,end_year+1):\n",
    "  baseurl = f\"ftp://ftp.gfz-potsdam.de/pub/home/obs/Kp_ap_Ap_SN_F107/Kp_ap_Ap_SN_F107_{year}.txt\"\n",
    "  os.makedirs(\"f107\",exist_ok=True)\n",
    "  local_filename = os.path.join(\"f107\",baseurl.split('/')[-1])\n",
    "  f107_file=local_filename.replace('.gz','')\n",
    "  df=pd.read_csv(f107_file,comment='#',header=None, delim_whitespace=True)\n",
    "  fcolumn=df.columns[-2]\n",
    "  df.loc[df[fcolumn] <= 0, fcolumn] = None\n",
    "  f107_series=df[fcolumn].replace(-1,None).ffill()\n",
    "  f107.append(f107_series.to_numpy())\n",
    "  #print(df[fcolumn].to_numpy())\n",
    "  #print(\"Downloading \", baseurl)\n",
    "  #print(\"Saved \",local_filename)\n",
    "f107_concat=np.concatenate(f107)\n",
    "np.savetxt('results/f107.txt',np.array(f107_concat))\n"
   ]
  },
  {
   "cell_type": "code",
   "execution_count": null,
   "metadata": {},
   "outputs": [],
   "source": [
    "# Exporting the table"
   ]
  },
  {
   "cell_type": "code",
   "execution_count": null,
   "metadata": {},
   "outputs": [],
   "source": [
    "from datetime import datetime\n",
    "firstDate=datetime(year=2013, month=1,day=1)\n",
    "datelist = pd.date_range(firstDate, periods=len(results_I3L2)).tolist()\n",
    "d={\"date\": datelist, \"I2L1\": np.array(results_I2L1),\"I2L2\": np.array(results_I2L2),\"I3L1\": np.array(results_I3L1), \"I3L2\": np.array(results_I3L2), \"VTEC\": np.array(results_tec), \"f107cm\": f107_concat}\n",
    "outdf=pd.DataFrame(data=d)\n",
    "outdf.to_csv(\"iono_series.csv\")"
   ]
  },
  {
   "cell_type": "code",
   "execution_count": null,
   "metadata": {
    "id": "qhp0uwzvc5fb"
   },
   "outputs": [],
   "source": [
    "results_f107 = np.loadtxt('results/f107.txt')"
   ]
  },
  {
   "cell_type": "code",
   "execution_count": null,
   "metadata": {
    "colab": {
     "base_uri": "https://localhost:8080/",
     "height": 282
    },
    "id": "yoe0uYc00PWu",
    "outputId": "b57c19bc-72c2-42bc-e27b-44de15377f1e"
   },
   "outputs": [],
   "source": [
    "plt.plot(results_f107, label='F10.7cm (fluxo solar)')\n",
    "plt.xlabel('Dia do ano')\n",
    "plt.ylabel('F10.7cm')\n",
    "plt.legend()"
   ]
  },
  {
   "cell_type": "code",
   "execution_count": null,
   "metadata": {},
   "outputs": [],
   "source": [
    "results_f107\n",
    "ind=np.argpartition(results_f107, -5)[-5:]\n",
    "results_f107[ind]"
   ]
  },
  {
   "cell_type": "code",
   "execution_count": null,
   "metadata": {},
   "outputs": [],
   "source": [
    "plt.figure(figsize=(20,20))\n",
    "plt.plot(results_I2L2, label=\"L2 - 2a ordem\")\n",
    "plt.plot(results_f107/100000.*5, label=\"F10.7cm (deslocado)\")\n",
    "plt.title('Atrasos ionosféricos de 2ª ordem')\n",
    "plt.xlabel('Dia do ano')\n",
    "plt.ylabel('Atraso ionosférico de 2ª ordem (m)')\n",
    "plt.legend()\n",
    "plt.show()"
   ]
  },
  {
   "cell_type": "code",
   "execution_count": null,
   "metadata": {
    "colab": {
     "base_uri": "https://localhost:8080/",
     "height": 1000
    },
    "id": "Hxd9Cifc5pMl",
    "outputId": "4e63d0a3-dc5e-476b-d6b9-c640f25d86b2"
   },
   "outputs": [],
   "source": [
    "plt.figure(figsize=(20,20))\n",
    "plt.plot(results_I3L2, label=\"L2 - 3a ordem\")\n",
    "plt.plot(results_I3L1, label=\"L1 - 3a ordem\")\n",
    "plt.plot(results_I2L2, label=\"L2 - 2a ordem\")\n",
    "plt.plot(results_I2L1, label=\"L1 - 2a ordem\")\n",
    "plt.plot(results_f107/100000., label=\"F10.7cm\")\n",
    "plt.title('Atrasos ionosféricos de 2ª ordem')\n",
    "plt.xlabel('Dia do ano')\n",
    "plt.ylabel('Atraso ionosférico de 2ª ordem (m)')\n",
    "plt.legend()\n",
    "plt.show()"
   ]
  },
  {
   "cell_type": "code",
   "execution_count": null,
   "metadata": {
    "id": "dKoWl8qL5reZ"
   },
   "outputs": [],
   "source": [
    "outdf.max()"
   ]
  },
  {
   "cell_type": "markdown",
   "metadata": {
    "id": "ud9wOKh87u_8"
   },
   "source": [
    "# Correlação"
   ]
  },
  {
   "cell_type": "code",
   "execution_count": null,
   "metadata": {
    "colab": {
     "base_uri": "https://localhost:8080/"
    },
    "id": "Jqm3L1Afi5ij",
    "outputId": "8bc69719-f26f-4fac-fa55-227358219955"
   },
   "outputs": [],
   "source": [
    "results_f107.shape\n",
    "results_I3L2.shape"
   ]
  },
  {
   "cell_type": "code",
   "execution_count": null,
   "metadata": {
    "colab": {
     "base_uri": "https://localhost:8080/",
     "height": 357
    },
    "id": "IWJcHCFa7uxZ",
    "outputId": "e72fe8a2-d29a-45e8-e729-af540478a6bf"
   },
   "outputs": [],
   "source": [
    "import scipy.stats\n",
    "print(scipy.stats.pearsonr(results_f107,results_I3L2))\n",
    "print(scipy.stats.pearsonr(results_f107,results_I3L1))\n",
    "print(scipy.stats.pearsonr(results_f107,results_I2L2))\n",
    "print(scipy.stats.pearsonr(results_f107,results_I2L1))\n",
    "print(scipy.stats.pearsonr(results_f107,results_tec))"
   ]
  },
  {
   "cell_type": "code",
   "execution_count": null,
   "metadata": {
    "id": "x-vPTRLt8tpJ"
   },
   "outputs": [],
   "source": [
    "compareSeries=results_I2L1\n",
    "plt.scatter(results_f107,compareSeries)\n",
    "plt.annotate(\"r-squared = {:.3f}\".format(r2_score(results_f107, compareSeries)), (0, 1), xycoords='figure points')\n",
    "y_test, y_predicted = results_f107.reshape(-1,1), np.array(compareSeries).reshape(-1,1)\n",
    "plt.plot(y_test, LinearRegression().fit(y_test, y_predicted).predict(y_test), color=\"red\")"
   ]
  },
  {
   "cell_type": "code",
   "execution_count": null,
   "metadata": {},
   "outputs": [],
   "source": [
    "outdf.describe()"
   ]
  },
  {
   "cell_type": "code",
   "execution_count": null,
   "metadata": {},
   "outputs": [],
   "source": []
  }
 ],
 "metadata": {
  "colab": {
   "collapsed_sections": [],
   "name": "Cópia de Cópia de Cópia de Cópia de pibit.ipynb",
   "provenance": []
  },
  "kernelspec": {
   "display_name": "Python 3 (ipykernel)",
   "language": "python",
   "name": "python3"
  },
  "language_info": {
   "codemirror_mode": {
    "name": "ipython",
    "version": 3
   },
   "file_extension": ".py",
   "mimetype": "text/x-python",
   "name": "python",
   "nbconvert_exporter": "python",
   "pygments_lexer": "ipython3",
   "version": "3.8.10"
  }
 },
 "nbformat": 4,
 "nbformat_minor": 1
}
