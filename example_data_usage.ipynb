{
 "cells": [
  {
   "cell_type": "markdown",
   "id": "e600c485",
   "metadata": {},
   "source": [
    "<a href=\"https://colab.research.google.com/github/mauriciodev/braz_iono_series/blob/main/example_data_usage.ipynb\" target=\"_parent\"><img src=\"https://colab.research.google.com/assets/colab-badge.svg\" alt=\"Open In Colab\"/></a>"
   ]
  },
  {
   "cell_type": "markdown",
   "id": "22907601",
   "metadata": {},
   "source": [
    "MIT License\n",
    "\n",
    "Copyright (c) 2022 Mauricio Carvalho Mathias de Paulo and Danilo Souza\n",
    "\n",
    "Permission is hereby granted, free of charge, to any person obtaining a copy of this software and associated documentation files (the \"Software\"), to deal in the Software without restriction, including without limitation the rights to use, copy, modify, merge, publish, distribute, sublicense, and/or sell copies of the Software, and to permit persons to whom the Software is furnished to do so, subject to the following conditions:\n",
    "\n",
    "The above copyright notice and this permission notice shall be included in all copies or substantial portions of the Software.\n",
    "\n",
    "THE SOFTWARE IS PROVIDED \"AS IS\", WITHOUT WARRANTY OF ANY KIND, EXPRESS OR IMPLIED, INCLUDING BUT NOT LIMITED TO THE WARRANTIES OF MERCHANTABILITY, FITNESS FOR A PARTICULAR PURPOSE AND NONINFRINGEMENT. IN NO EVENT SHALL THE AUTHORS OR COPYRIGHT HOLDERS BE LIABLE FOR ANY CLAIM, DAMAGES OR OTHER LIABILITY, WHETHER IN AN ACTION OF CONTRACT, TORT OR OTHERWISE, ARISING FROM, OUT OF OR IN CONNECTION WITH THE SOFTWARE OR THE USE OR OTHER DEALINGS IN THE SOFTWARE."
   ]
  },
  {
   "cell_type": "code",
   "execution_count": null,
   "id": "6dc8da85",
   "metadata": {},
   "outputs": [],
   "source": [
    "from datetime import datetime\n",
    "import pandas as pd\n",
    "import urllib\n",
    "import os\n",
    "from zipfile import ZipFile\n",
    "import subprocess\n",
    "import numpy as np\n",
    "import matplotlib.pyplot as plt\n",
    "import re\n",
    "import io\n",
    "import urllib.request\n",
    "import scipy\n",
    "from sklearn.metrics import r2_score\n",
    "from sklearn.linear_model import LinearRegression"
   ]
  },
  {
   "cell_type": "markdown",
   "id": "be258ec2",
   "metadata": {},
   "source": [
    "# Baixando o arquivo do github"
   ]
  },
  {
   "cell_type": "code",
   "execution_count": null,
   "id": "07ea67ce",
   "metadata": {},
   "outputs": [],
   "source": [
    "url=\"https://raw.githubusercontent.com/mauriciodev/braz_iono_series/main/iono_series.csv\"\n",
    "!wget --no-check-certificate $url"
   ]
  },
  {
   "cell_type": "code",
   "execution_count": null,
   "id": "864b0c1f",
   "metadata": {},
   "outputs": [],
   "source": [
    "df=pd.read_csv(\"iono_series.csv\")\n",
    "df['date']=pd.to_datetime(df['date'])#.astype('datetime64[D]') #recognizes date column as date type\n",
    "df"
   ]
  },
  {
   "cell_type": "markdown",
   "id": "3e1a9c6c",
   "metadata": {},
   "source": [
    "# Limpando anomalias após o processamento"
   ]
  },
  {
   "cell_type": "code",
   "execution_count": null,
   "id": "6aaafdcf",
   "metadata": {},
   "outputs": [],
   "source": [
    "#|X-Xavg|<3*std\n",
    "#column='max_VTEC'\n",
    "column='maxA_I2L1'\n",
    "nstd=3 #number of standard deviations above or bellow median\n",
    "plt.figure(figsize=(15, 5))\n",
    "s=df[column].rolling(9, center=True, min_periods=3).std()\n",
    "median=df[column].rolling(9, center=True, min_periods=3).median(skipna=True)\n",
    "plt.plot(median, label=\"Median\")\n",
    "#outliers=abs(df[column]-median)>nstd*s\n",
    "outliers=abs(df[column]-median)>0.003\n",
    "plt.plot(df[column], label=column, marker='.', linestyle=\"None\")\n",
    "plt.plot(df[outliers][column],marker='o',linestyle = 'None', label=\"Outliers\")\n",
    "plt.legend()"
   ]
  },
  {
   "cell_type": "code",
   "execution_count": null,
   "id": "df859eb0",
   "metadata": {},
   "outputs": [],
   "source": [
    "df[outliers]"
   ]
  },
  {
   "cell_type": "markdown",
   "id": "1b660ac4",
   "metadata": {},
   "source": [
    "# Removendo da série"
   ]
  },
  {
   "cell_type": "code",
   "execution_count": null,
   "id": "449f87af",
   "metadata": {},
   "outputs": [],
   "source": [
    "df[outliers] = np.nan"
   ]
  },
  {
   "cell_type": "markdown",
   "id": "1cc9fb2e",
   "metadata": {},
   "source": [
    "# Estatística descritiva"
   ]
  },
  {
   "cell_type": "code",
   "execution_count": null,
   "id": "57669785",
   "metadata": {},
   "outputs": [],
   "source": [
    "cols=[\"mean_I2L1\",\"mean_I3L1\",\"mean_I2L2\",\"mean_I3L2\", \"mean_VTEC\", \"maxA_I2L1\",\"maxA_I3L1\",\"maxA_I2L2\",\"maxA_I3L2\" ]\n",
    "df[cols].describe()"
   ]
  },
  {
   "cell_type": "markdown",
   "id": "2395bcca",
   "metadata": {},
   "source": [
    "# Gráficos individuais"
   ]
  },
  {
   "cell_type": "code",
   "execution_count": null,
   "id": "84e726fe",
   "metadata": {},
   "outputs": [],
   "source": [
    "plt.plot(df['date'],df['f107cm'], label='F10.7cm (fluxo solar)')\n",
    "plt.xlabel('Ano')\n",
    "plt.ylabel('F10.7cm')\n",
    "plt.legend()"
   ]
  },
  {
   "cell_type": "code",
   "execution_count": null,
   "id": "15d4519c",
   "metadata": {},
   "outputs": [],
   "source": [
    "plt.figure(figsize=(20,20))\n",
    "plt.plot(df[['mean_I3L2']], label=\"L2 - 3a ordem\")\n",
    "plt.plot(df[['mean_I3L1']], label=\"L1 - 3a ordem\")\n",
    "plt.plot(df[['mean_I2L2']], label=\"L2 - 2a ordem\")\n",
    "plt.plot(df[['mean_I2L1']], label=\"L1 - 2a ordem\")\n",
    "plt.plot(df[['f107cm']]/100000., label=\"F10.7cm\")\n",
    "plt.title('Atrasos ionosféricos de 2ª ordem')\n",
    "plt.xlabel('Dia do ano')\n",
    "plt.ylabel('Atraso ionosférico de 2ª ordem (m)')\n",
    "plt.legend()\n",
    "plt.show()"
   ]
  },
  {
   "cell_type": "markdown",
   "id": "c3193a94",
   "metadata": {},
   "source": [
    "# Correlação"
   ]
  },
  {
   "cell_type": "code",
   "execution_count": null,
   "id": "1867234e",
   "metadata": {},
   "outputs": [],
   "source": [
    "#Correlation using pandas\n",
    "#df2=df.ffill()\n",
    "df[cols+[\"f107cm\"]].corr(method='pearson')"
   ]
  },
  {
   "cell_type": "code",
   "execution_count": null,
   "id": "de2e3737",
   "metadata": {},
   "outputs": [],
   "source": [
    "df2=df.dropna() #removing nan's\n",
    "compareSeries=df2[['mean_I2L1']]\n",
    "plt.scatter(df2[['f107cm']],compareSeries)\n",
    "plt.annotate(\"r-squared = {:.3f}\".format(r2_score(df2[['f107cm']], compareSeries)), (0, 1), xycoords='figure points')\n",
    "y_test, y_predicted = df2[['f107cm']].to_numpy().reshape(-1,1), np.array(compareSeries).reshape(-1,1)\n",
    "plt.plot(y_test, LinearRegression().fit(y_test, y_predicted).predict(y_test), color=\"red\")"
   ]
  },
  {
   "cell_type": "markdown",
   "id": "d3329d38",
   "metadata": {},
   "source": [
    "# Gráficos das séries"
   ]
  },
  {
   "cell_type": "code",
   "execution_count": null,
   "id": "34aa15b9",
   "metadata": {},
   "outputs": [],
   "source": [
    "fig, axs = plt.subplots(4, figsize=(15, 10))\n",
    "fig.tight_layout()\n",
    "axs[0].set_title('Média diária de atrasos ionosféricos de ordem superior (mm)')\n",
    "axs[0].plot(df['date'],df['mean_I3L2']*1000, label=\"L2 - 3a ordem\")\n",
    "axs[0].plot(df['date'],df['mean_I3L1']*1000, label=\"L1 - 3a ordem\")\n",
    "axs[0].plot(df['date'],df['mean_I2L2']*1000, label=\"L2 - 2a ordem\")\n",
    "axs[0].plot(df['date'],df['mean_I2L1']*1000, label=\"L1 - 2a ordem\")\n",
    "axs[0].legend()\n",
    "axs[1].set_title('Média diária do VTEC (TECU)')\n",
    "axs[1].plot(df['date'],df['mean_VTEC'], label=\"VTEC\")\n",
    "axs[1].legend()\n",
    "axs[2].set_title('F10.7cm (índice de fluxo solar)')\n",
    "axs[2].plot(df['date'],df['f107cm'], label=\"F10.7cm\")\n",
    "axs[2].legend()\n",
    "axs[3].set_title('Ap (índice de atividade geomagnética)')\n",
    "axs[3].plot(df['date'],df['ap'], label=\"Ap\")\n",
    "axs[3].legend()\n",
    "plt.xlabel('Ano')\n",
    "plt.show()"
   ]
  },
  {
   "cell_type": "code",
   "execution_count": null,
   "id": "db5a5305",
   "metadata": {},
   "outputs": [],
   "source": [
    "\n",
    "fig, axs = plt.subplots(6, figsize=(15, 10))\n",
    "fig.tight_layout()\n",
    "axs[0].set_title('Média diária de atrasos ionosféricos de ordem superior (mm)')\n",
    "axs[0].plot(df['date'],df['mean_I3L2']*1000, label=\"L2 - 3a ordem\")\n",
    "axs[0].plot(df['date'],df['mean_I3L1']*1000, label=\"L1 - 3a ordem\")\n",
    "axs[0].plot(df['date'],df['mean_I2L2']*1000, label=\"L2 - 2a ordem\")\n",
    "axs[0].plot(df['date'],df['mean_I2L1']*1000, label=\"L1 - 2a ordem\")\n",
    "axs[0].legend()\n",
    "axs[1].set_title('Máximos diários dos atrasos ionosféricos de ordem superior (mm)')\n",
    "axs[1].plot(df['date'],df['max_I3L2']*1000, label=\"L2 - 3a ordem\")\n",
    "axs[1].plot(df['date'],df['max_I3L1']*1000, label=\"L1 - 3a ordem\")\n",
    "axs[1].plot(df['date'],df['max_I2L2']*1000, label=\"L2 - 2a ordem\")\n",
    "axs[1].plot(df['date'],df['max_I2L1']*1000, label=\"L1 - 2a ordem\")\n",
    "axs[1].legend()\n",
    "axs[2].set_title('Mínimo diário dos atrasos ionosféricos de ordem superior (mm)')\n",
    "axs[2].plot(df['date'],df['min_I3L2']*1000, label=\"L2 - 3a ordem\")\n",
    "axs[2].plot(df['date'],df['min_I3L1']*1000, label=\"L1 - 3a ordem\")\n",
    "axs[2].plot(df['date'],df['min_I2L2']*1000, label=\"L2 - 2a ordem\")\n",
    "axs[2].plot(df['date'],df['min_I2L1']*1000, label=\"L1 - 2a ordem\")\n",
    "axs[2].legend()\n",
    "axs[3].set_title('Média diária do VTEC (TECU)')\n",
    "axs[3].plot(df['date'],df['mean_VTEC'], label=\"VTEC\")\n",
    "axs[3].legend()\n",
    "axs[4].set_title('F10.7cm (índice de fluxo solar)')\n",
    "axs[4].plot(df['date'],df['f107cm'], label=\"F10.7cm\")\n",
    "axs[4].legend()\n",
    "axs[5].set_title('Ap (índice de atividade geomagnética)')\n",
    "axs[5].plot(df['date'],df['ap'], label=\"Ap\")\n",
    "axs[5].legend()\n",
    "plt.xlabel('Ano')\n",
    "plt.show()\n"
   ]
  },
  {
   "cell_type": "markdown",
   "id": "c6655993",
   "metadata": {},
   "source": [
    "## Gráfico com valores absolutos\n"
   ]
  },
  {
   "cell_type": "code",
   "execution_count": null,
   "id": "6c761aa1",
   "metadata": {},
   "outputs": [],
   "source": [
    "fig, axs = plt.subplots(5, figsize=(15, 10))\n",
    "fig.tight_layout()\n",
    "i=0\n",
    "axs[i].set_title('Média diária dos valores dos atrasos ionosféricos de ordem superior (mm)')\n",
    "axs[i].plot(df['date'],df['mean_I3L2']*1000, label=\"L2 - 3a ordem\")\n",
    "axs[i].plot(df['date'],df['mean_I3L1']*1000, label=\"L1 - 3a ordem\")\n",
    "axs[i].plot(df['date'],df['mean_I2L2']*1000, label=\"L2 - 2a ordem\")\n",
    "axs[i].plot(df['date'],df['mean_I2L1']*1000, label=\"L1 - 2a ordem\")\n",
    "axs[i].legend(loc=1)\n",
    "i+=1\n",
    "axs[i].set_title('Média diária dos valores absolutos dos atrasos ionosféricos de ordem superior (mm)')\n",
    "axs[i].plot(df['date'],df['meanA_I3L2']*1000, label=\"L2 - 3a ordem\")\n",
    "axs[i].plot(df['date'],df['meanA_I3L1']*1000, label=\"L1 - 3a ordem\")\n",
    "axs[i].plot(df['date'],df['meanA_I2L2']*1000, label=\"L2 - 2a ordem\")\n",
    "axs[i].plot(df['date'],df['meanA_I2L1']*1000, label=\"L1 - 2a ordem\")\n",
    "axs[i].legend(loc=1)\n",
    "i+=1\n",
    "axs[i].set_title('Máximos diários dos valores absolutos dos atrasos ionosféricos de ordem superior (mm)')\n",
    "axs[i].plot(df['date'],df['maxA_I3L2']*1000, label=\"L2 - 3a ordem\")\n",
    "axs[i].plot(df['date'],df['maxA_I3L1']*1000, label=\"L1 - 3a ordem\")\n",
    "axs[i].plot(df['date'],df['maxA_I2L2']*1000, label=\"L2 - 2a ordem\")\n",
    "axs[i].plot(df['date'],df['maxA_I2L1']*1000, label=\"L1 - 2a ordem\")\n",
    "axs[i].legend(loc=1)\n",
    "i+=1\n",
    "\"\"\"axs[i].set_title('Mínimos diários dos valores absolutos dos atrasos ionosféricos de ordem superior (mm)')\n",
    "axs[i].plot(df['date'],df['minA_I3L2']*1000, label=\"L2 - 3a ordem\")\n",
    "axs[i].plot(df['date'],df['minA_I3L1']*1000, label=\"L1 - 3a ordem\")\n",
    "axs[i].plot(df['date'],df['minA_I2L2']*1000, label=\"L2 - 2a ordem\")\n",
    "axs[i].plot(df['date'],df['minA_I2L1']*1000, label=\"L1 - 2a ordem\")\n",
    "axs[i].legend(loc=1)\n",
    "i+=1\"\"\"\n",
    "axs[i].set_title('Média diária do VTEC (TECU)')\n",
    "axs[i].plot(df['date'],df['mean_VTEC'], label=\"VTEC\")\n",
    "axs[i].legend(loc=1)\n",
    "i+=1\n",
    "axs[i].set_title('F10.7cm (índice de fluxo solar)')\n",
    "axs[i].plot(df['date'],df['f107cm'], label=\"F10.7cm\")\n",
    "axs[i].legend(loc=1)\n",
    "\"\"\"i+=1\n",
    "axs[i].set_title('Ap (índice de atividade geomagnética)')\n",
    "axs[i].plot(df['date'],df['ap'], label=\"Ap\")\n",
    "axs[i].legend(loc=1)\"\"\"\n",
    "plt.xlabel('Ano')\n",
    "plt.savefig(\"absValues.svg\")\n",
    "plt.show()"
   ]
  },
  {
   "cell_type": "code",
   "execution_count": null,
   "id": "9c35c2d1",
   "metadata": {},
   "outputs": [],
   "source": []
  }
 ],
 "metadata": {
  "kernelspec": {
   "display_name": "Python 3 (ipykernel)",
   "language": "python",
   "name": "python3"
  },
  "language_info": {
   "codemirror_mode": {
    "name": "ipython",
    "version": 3
   },
   "file_extension": ".py",
   "mimetype": "text/x-python",
   "name": "python",
   "nbconvert_exporter": "python",
   "pygments_lexer": "ipython3",
   "version": "3.8.10"
  }
 },
 "nbformat": 4,
 "nbformat_minor": 5
}
